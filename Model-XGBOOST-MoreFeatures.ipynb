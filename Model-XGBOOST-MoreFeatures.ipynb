{
 "cells": [
  {
   "cell_type": "code",
   "execution_count": 13,
   "metadata": {},
   "outputs": [],
   "source": [
    "import os\n",
    "\n",
    "import numpy as np\n",
    "from numpy.linalg import norm\n",
    "import pandas as pd\n",
    "import matplotlib.pyplot as plt\n",
    "from sklearn.linear_model import LogisticRegression\n",
    "from sklearn.metrics import confusion_matrix, classification_report\n",
    "import xgboost as xgb\n",
    "from pyemd import emd\n",
    "import pickle\n",
    "\n",
    "from utils import get_hash\n",
    "from utils import Featurizer\n",
    "from utils import plot_confusion_matrix"
   ]
  },
  {
   "cell_type": "markdown",
   "metadata": {},
   "source": [
    "## Word Embeddings\n",
    "The featurizer will serve to create embeddings and compute similarity scores between answers and landmarks."
   ]
  },
  {
   "cell_type": "code",
   "execution_count": 2,
   "metadata": {},
   "outputs": [
    {
     "name": "stdout",
     "output_type": "stream",
     "text": [
      "Loading word vectors...\n",
      "Done! Using 3000000 word vectors from pre-trained word2vec.\n"
     ]
    }
   ],
   "source": [
    "# Create a featurizer object that converts a phrase into embedding vector\n",
    "emb_file = os.path.join(\"munge\", \"GoogleNews-vectors-negative300.bin\")\n",
    "featurizer = Featurizer(emb_file)"
   ]
  },
  {
   "cell_type": "markdown",
   "metadata": {},
   "source": [
    "## Reading Data"
   ]
  },
  {
   "cell_type": "markdown",
   "metadata": {},
   "source": [
    "We will be reading modeling and test data that were prepared using a random split during the preprocessing phase.  \n",
    "The modeling set represents 80% from the instances in the original dataset.  \n",
    "The test set contrains the remaining 20%."
   ]
  },
  {
   "cell_type": "code",
   "execution_count": 3,
   "metadata": {},
   "outputs": [],
   "source": [
    "modeling = pd.read_csv(os.path.join(\"munge\", \"modeling.csv\"))\n",
    "test = pd.read_csv(os.path.join(\"munge\", \"test.csv\"))"
   ]
  },
  {
   "cell_type": "markdown",
   "metadata": {},
   "source": [
    "Landmarks are oservations from the training set, a mixture of student answers and reference answers.  \n",
    "We will be using those landmarks to create similarity feature using pre-trained word embeddings.    \n",
    "The embeddings in the landmark data set have already been computed during the preprocessing phase."
   ]
  },
  {
   "cell_type": "code",
   "execution_count": 4,
   "metadata": {},
   "outputs": [
    {
     "data": {
      "text/html": [
       "<div>\n",
       "<style scoped>\n",
       "    .dataframe tbody tr th:only-of-type {\n",
       "        vertical-align: middle;\n",
       "    }\n",
       "\n",
       "    .dataframe tbody tr th {\n",
       "        vertical-align: top;\n",
       "    }\n",
       "\n",
       "    .dataframe thead th {\n",
       "        text-align: right;\n",
       "    }\n",
       "</style>\n",
       "<table border=\"1\" class=\"dataframe\">\n",
       "  <thead>\n",
       "    <tr style=\"text-align: right;\">\n",
       "      <th></th>\n",
       "      <th>pd_hash</th>\n",
       "      <th>qu_hash</th>\n",
       "      <th>label</th>\n",
       "      <th>answer</th>\n",
       "      <th>embedding</th>\n",
       "    </tr>\n",
       "  </thead>\n",
       "  <tbody>\n",
       "    <tr>\n",
       "      <th>0</th>\n",
       "      <td>5059c9cfbb</td>\n",
       "      <td>27570f5d10</td>\n",
       "      <td>0</td>\n",
       "      <td>An object at rest will stay at rest and at obj...</td>\n",
       "      <td>[0.043226543225740134, 0.05086477179276316, 0....</td>\n",
       "    </tr>\n",
       "    <tr>\n",
       "      <th>1</th>\n",
       "      <td>5059c9cfbb</td>\n",
       "      <td>27570f5d10</td>\n",
       "      <td>0</td>\n",
       "      <td>If all the forces acting on an object add up t...</td>\n",
       "      <td>[0.032783322217987805, 0.03816697655654535, 0....</td>\n",
       "    </tr>\n",
       "    <tr>\n",
       "      <th>2</th>\n",
       "      <td>5059c9cfbb</td>\n",
       "      <td>27570f5d10</td>\n",
       "      <td>0</td>\n",
       "      <td>When the object is in equilibrium or velocity ...</td>\n",
       "      <td>[0.09235763549804688, 0.0213623046875, 0.06687...</td>\n",
       "    </tr>\n",
       "    <tr>\n",
       "      <th>3</th>\n",
       "      <td>abb3be1545</td>\n",
       "      <td>c9b7df0ef8</td>\n",
       "      <td>0</td>\n",
       "      <td>When the rocket stops pushing, no forces are a...</td>\n",
       "      <td>[0.031693892045454544, 0.05947598544034091, -0...</td>\n",
       "    </tr>\n",
       "    <tr>\n",
       "      <th>4</th>\n",
       "      <td>abb3be1545</td>\n",
       "      <td>c9b7df0ef8</td>\n",
       "      <td>0</td>\n",
       "      <td>When the rocket stops pushing, the meteor will...</td>\n",
       "      <td>[0.04916178385416667, 0.09795735677083334, -0....</td>\n",
       "    </tr>\n",
       "  </tbody>\n",
       "</table>\n",
       "</div>"
      ],
      "text/plain": [
       "      pd_hash     qu_hash  label  \\\n",
       "0  5059c9cfbb  27570f5d10      0   \n",
       "1  5059c9cfbb  27570f5d10      0   \n",
       "2  5059c9cfbb  27570f5d10      0   \n",
       "3  abb3be1545  c9b7df0ef8      0   \n",
       "4  abb3be1545  c9b7df0ef8      0   \n",
       "\n",
       "                                              answer  \\\n",
       "0  An object at rest will stay at rest and at obj...   \n",
       "1  If all the forces acting on an object add up t...   \n",
       "2  When the object is in equilibrium or velocity ...   \n",
       "3  When the rocket stops pushing, no forces are a...   \n",
       "4  When the rocket stops pushing, the meteor will...   \n",
       "\n",
       "                                           embedding  \n",
       "0  [0.043226543225740134, 0.05086477179276316, 0....  \n",
       "1  [0.032783322217987805, 0.03816697655654535, 0....  \n",
       "2  [0.09235763549804688, 0.0213623046875, 0.06687...  \n",
       "3  [0.031693892045454544, 0.05947598544034091, -0...  \n",
       "4  [0.04916178385416667, 0.09795735677083334, -0....  "
      ]
     },
     "execution_count": 4,
     "metadata": {},
     "output_type": "execute_result"
    }
   ],
   "source": [
    "landmarks = pd.read_csv(os.path.join(\"munge\", \"landmarks.txt\"), sep=\"\\t\")\n",
    "landmarks['embedding'] = landmarks['embedding'].apply(lambda x : list(map(float, x.split(','))))\n",
    "landmarks.head()"
   ]
  },
  {
   "cell_type": "markdown",
   "metadata": {},
   "source": [
    "## Feature Engineering"
   ]
  },
  {
   "cell_type": "code",
   "execution_count": 5,
   "metadata": {},
   "outputs": [],
   "source": [
    "def get_features(landmarks, obs):\n",
    "    \"\"\"\"Create all features to represent an observation.\n",
    "    \n",
    "    Args:\n",
    "        landmarks : a dataframe of landmarks (output of preprocessing phase)\n",
    "        obs : an observation (one row in train, dev or test dataframe)\n",
    "    \n",
    "    Returns:\n",
    "        features : a numpy vector with float numbers\n",
    "    \"\"\"\n",
    "        \n",
    "    # Get observation values\n",
    "    pd_hash = get_hash(obs['problem_description'])\n",
    "    qu_hash = get_hash(obs['question'])\n",
    "    emb = featurizer.doc2vec(obs['answer'])\n",
    "        \n",
    "    # Landmark of different question will get zero similarity (default)\n",
    "    qu_land = landmarks.copy()\n",
    "    qu_land['similarity'] = 0 # Compute cosine similarity with landmark\n",
    "    qu_land['asym_diff1'] = 0 # asymmetric difference between answer and landmark\n",
    "    qu_land['asym_diff2'] = 0 # asymmetric diffence between landmark and answer\n",
    "    qu_land['word_match'] = 0 # word match between landmark and answer\n",
    "    #qu_land['wmdist'] = 0 # world mover's distance between landmark and answer\n",
    "\n",
    "    # Compute similarity when embedding is not zero and landmark from same question\n",
    "    if norm(emb)!=0:\n",
    "        # Get index of landmarks with same problem  and question \n",
    "        idx = qu_land[(qu_land['pd_hash']==pd_hash) & (qu_land['qu_hash']==qu_hash)].index\n",
    "        # Compute the direct similarity with these landmarks\n",
    "        qu_land.loc[idx, 'similarity'] = qu_land.loc[idx, 'embedding'].apply(lambda x : featurizer.cossim_from_emb(emb, np.array(x)))\n",
    "        # Compute the asymmetric difference between answer and landmark\n",
    "        qu_land.loc[idx, 'asym_diff1'] = qu_land.loc[idx, 'answer'].apply(lambda x : featurizer.asym_diff(obs['answer'], x))\n",
    "        # Compute the asymmetric difference between landmark and answer\n",
    "        qu_land.loc[idx, 'asym_diff2'] = qu_land.loc[idx, 'answer'].apply(lambda x : featurizer.asym_diff(x, obs['answer']))\n",
    "        # Compute the word match ratio between answer and landmark\n",
    "        qu_land.loc[idx, 'word_match'] = qu_land.loc[idx, 'answer'].apply(lambda x : featurizer.word_match(obs['answer'], x))\n",
    "        # Compute the world mover's distance between answer and landmark\n",
    "        #qu_land.loc[idx, 'wmdist'] = qu_land.loc[idx, 'answer'].apply(lambda x : featurizer.wmdist(obs['answer'], x))\n",
    "\n",
    "    # Features will be all similarity measures to landmarks    \n",
    "    features = np.concatenate((qu_land['similarity'],\n",
    "                               qu_land['asym_diff1'],\n",
    "                               qu_land['asym_diff2'],\n",
    "                               qu_land['word_match']))\n",
    "    \n",
    "    \"\"\"qu_land['norm'] = qu_land['embedding'].apply(lambda x: norm(x))\n",
    "    \n",
    "    if np.isnan(features).sum()>0:\n",
    "        print('Nan detected')\n",
    "        print('Norme emb:', norm(emb))\n",
    "        print(qu_land[np.isnan(qu_land['similarity'])]['norm'])\"\"\"\n",
    "    \n",
    "    \n",
    "    \"\"\"# Add feature to indicate wether or not observation embedding was zero\n",
    "    if norm(emb)==0:\n",
    "        features = np.append(1, features)\n",
    "    else:\n",
    "        features = np.append(0, features)\n",
    "        \n",
    "    # Add features to indicate similarity to question and to problem description\n",
    "    sim_to_qu = featurizer.cossim_from_phrase(obs['answer'], obs['question'])\n",
    "    sim_to_pd = featurizer.cossim_from_phrase(obs['answer'], obs['problem_description'])\n",
    "    features = np.append(sim_to_qu, features)\n",
    "    features = np.append(sim_to_pd, features)\"\"\"\n",
    "    \n",
    "    return features"
   ]
  },
  {
   "cell_type": "code",
   "execution_count": 6,
   "metadata": {},
   "outputs": [
    {
     "data": {
      "text/plain": [
       "0.142857"
      ]
     },
     "execution_count": 6,
     "metadata": {},
     "output_type": "execute_result"
    }
   ],
   "source": [
    "featurizer.word_match('hello world', ['by common terms planet world'])"
   ]
  },
  {
   "cell_type": "code",
   "execution_count": 7,
   "metadata": {},
   "outputs": [
    {
     "data": {
      "text/plain": [
       "array([0., 0., 0., ..., 0., 0., 0.])"
      ]
     },
     "execution_count": 7,
     "metadata": {},
     "output_type": "execute_result"
    }
   ],
   "source": [
    "line = modeling.iloc[0]\n",
    "get_features(landmarks, line)"
   ]
  },
  {
   "cell_type": "code",
   "execution_count": 8,
   "metadata": {},
   "outputs": [],
   "source": [
    "def kernel_matrix(data, landmarks):\n",
    "    \"\"\"Featurize a dataset.\"\"\"\n",
    "    \n",
    "    features = np.array(list(data.apply(lambda x : get_features(landmarks, x), axis=1)))\n",
    "    return(features)"
   ]
  },
  {
   "cell_type": "code",
   "execution_count": 9,
   "metadata": {},
   "outputs": [],
   "source": [
    "X_modeling = kernel_matrix(modeling, landmarks)\n",
    "X_test = kernel_matrix(test, landmarks)\n",
    "\n",
    "y_modeling = np.array(modeling['label'])\n",
    "y_test = np.array(test['label'])"
   ]
  },
  {
   "cell_type": "code",
   "execution_count": 10,
   "metadata": {},
   "outputs": [
    {
     "data": {
      "text/plain": [
       "0"
      ]
     },
     "execution_count": 10,
     "metadata": {},
     "output_type": "execute_result"
    }
   ],
   "source": [
    "np.isnan(X_modeling).sum()"
   ]
  },
  {
   "cell_type": "code",
   "execution_count": 11,
   "metadata": {},
   "outputs": [
    {
     "name": "stdout",
     "output_type": "stream",
     "text": [
      "Number of features: 3028\n"
     ]
    }
   ],
   "source": [
    "print('Number of features: {}'.format(X_modeling.shape[1]))"
   ]
  },
  {
   "cell_type": "code",
   "execution_count": 17,
   "metadata": {},
   "outputs": [
    {
     "name": "stdout",
     "output_type": "stream",
     "text": [
      "Hyperparameter tuning on the modeling set...\n",
      "Fitting 5 folds for each of 108 candidates, totalling 540 fits\n"
     ]
    },
    {
     "name": "stderr",
     "output_type": "stream",
     "text": [
      "[Parallel(n_jobs=-1)]: Using backend LokyBackend with 8 concurrent workers.\n",
      "[Parallel(n_jobs=-1)]: Done  34 tasks      | elapsed:  9.5min\n",
      "[Parallel(n_jobs=-1)]: Done 184 tasks      | elapsed: 57.0min\n",
      "[Parallel(n_jobs=-1)]: Done 434 tasks      | elapsed: 110.8min\n",
      "[Parallel(n_jobs=-1)]: Done 540 out of 540 | elapsed: 133.1min finished\n",
      "/anaconda3/lib/python3.6/site-packages/sklearn/model_selection/_search.py:841: DeprecationWarning: The default of the `iid` parameter will change from True to False in version 0.22 and will be removed in 0.24. This will change numeric results when test-set sizes are unequal.\n",
      "  DeprecationWarning)\n"
     ]
    },
    {
     "name": "stdout",
     "output_type": "stream",
     "text": [
      "Training took 8127.716s\n",
      "Best score on cross-validation: 0.58\n",
      "Best estimator found by grid search:\n",
      "XGBClassifier(base_score=0.5, booster='gbtree', colsample_bylevel=1,\n",
      "       colsample_bynode=1, colsample_bytree=1, gamma=0, learning_rate=0.1,\n",
      "       max_delta_step=0, max_depth=3, min_child_weight=1, missing=None,\n",
      "       n_estimators=500, n_jobs=1, nthread=None,\n",
      "       objective='multi:softprob', random_state=22, reg_alpha=0,\n",
      "       reg_lambda=1, scale_pos_weight=1, seed=None, silent=None,\n",
      "       subsample=0.7, verbosity=1)\n"
     ]
    }
   ],
   "source": [
    "from sklearn.model_selection import GridSearchCV\n",
    "import time\n",
    "\n",
    "print(\"Hyperparameter tuning on the modeling set...\")\n",
    "t0 = time.time()\n",
    "\n",
    "param_grid = {'max_depth': [2, 3],\n",
    "              'n_estimators': [100, 300, 500],\n",
    "              'learning_rate': [1e-1, 1e-2],\n",
    "              'subsample': [1, 0.7, 0.5],\n",
    "              'colsample_bytree': [1, 0.5, 0.3]}\n",
    "\n",
    "clf = GridSearchCV(xgb.XGBClassifier(objective=\"multi:softprob\",\n",
    "                                     subsample=1,\n",
    "                                     max_depth=3,\n",
    "                                     random_state=22),\n",
    "                   param_grid,\n",
    "                   cv=5,\n",
    "                   verbose=1,\n",
    "                   n_jobs=-1)\n",
    "\n",
    "clf.fit(X_modeling, y_modeling)\n",
    "model = clf.best_estimator_\n",
    "\n",
    "if not os.path.exists(\"model\"):\n",
    "        os.makedirs(\"model\")\n",
    "pickle.dump(model, open(os.path.join(\"model\",\"xgboost.pkl\"), \"wb\"))\n",
    "\n",
    "print(\"Training took %0.3fs\" %(time.time() - t0))\n",
    "print(\"Best score on cross-validation: %0.2f\" %clf.best_score_)\n",
    "print(\"Best estimator found by grid search:\")\n",
    "print(model)"
   ]
  },
  {
   "cell_type": "markdown",
   "metadata": {},
   "source": [
    "# Performance Evaluation"
   ]
  },
  {
   "cell_type": "code",
   "execution_count": 18,
   "metadata": {},
   "outputs": [
    {
     "name": "stderr",
     "output_type": "stream",
     "text": [
      "/anaconda3/lib/python3.6/site-packages/numpy/core/fromnumeric.py:3118: RuntimeWarning: Mean of empty slice.\n",
      "  out=out, **kwargs)\n",
      "/anaconda3/lib/python3.6/site-packages/numpy/core/_methods.py:85: RuntimeWarning: invalid value encountered in double_scalars\n",
      "  ret = ret.dtype.type(ret / rcount)\n"
     ]
    },
    {
     "data": {
      "image/png": "[encoded data removed]",
      "text/plain": [
       "<Figure size 1080x432 with 1 Axes>"
      ]
     },
     "metadata": {
      "needs_background": "light"
     },
     "output_type": "display_data"
    }
   ],
   "source": [
    "def get_prediction(X, thresh):\n",
    "    pred = model.predict_proba(X)\n",
    "    pred = [[(class_id, proba) for (class_id, proba) in enumerate(p) if proba == np.max(p)] for p in pred]\n",
    "    pred = [p[0][0] if p[0][1]>thresh else 99 for p in pred]\n",
    "    return np.array(pred)\n",
    "\n",
    "def get_performance(predictions, labels, thresh):\n",
    "    \"\"\"Measure the accuracy and the unknown rate depending on the threshold\n",
    "    Args:\n",
    "        predictions: list of tuples (prediction, dist)\n",
    "        label: list of labels\n",
    "        thresh: distance threshold above which the prediction becomes unknown\n",
    "        \n",
    "    Returns:\n",
    "        accuracy: proportion of correct predictions when not unkown\n",
    "        unknown_rate: proportion of predictions that are unknown    \n",
    "    \"\"\"\n",
    "    \n",
    "    # Measure the rate of known predictions\n",
    "    response_rate = 1 - np.mean(predictions==99)\n",
    "    \n",
    "    # Get the indices of predictions to keep\n",
    "    known_idx = [i for i in range(len(predictions)) if predictions[i]!=99]\n",
    "    \n",
    "    # get predictions that are not unknown\n",
    "    mini_predictions = np.array([predictions[idx] for idx in known_idx])\n",
    "    mini_labels = np.array([labels[idx] for idx in known_idx])\n",
    "    \n",
    "    # Measure the accuracy\n",
    "    accuracy = np.mean(mini_predictions == mini_labels)\n",
    "    \n",
    "    # Ouput dictionary\n",
    "    output = {\"accuracy\": accuracy,\n",
    "              \"response_rate\": response_rate}\n",
    "    \n",
    "    return output\n",
    "\n",
    "\n",
    "# Plot the performance against the threshold\n",
    "accuracy = []\n",
    "response_rate = []\n",
    "threshold = np.linspace(start = 0, stop = 1, num=100)\n",
    "\n",
    "for thresh in threshold:\n",
    "    predictions = get_prediction(X_test, thresh)\n",
    "    labels = y_test\n",
    "    perf = get_performance(predictions, labels, thresh)\n",
    "    accuracy.append(perf[\"accuracy\"])\n",
    "    response_rate.append(perf[\"response_rate\"])\n",
    "    \n",
    "plt.figure(figsize=(15,6))\n",
    "plt.plot(threshold, response_rate)\n",
    "plt.plot(threshold, accuracy)\n",
    "plt.legend(['response_rate', 'accuracy'], loc='lower right')\n",
    "plt.title('Accuracy vs Response rate')\n",
    "plt.xlabel('Threshold')\n",
    "plt.grid(True)\n",
    "plt.show()"
   ]
  },
  {
   "cell_type": "code",
   "execution_count": 19,
   "metadata": {},
   "outputs": [
    {
     "data": {
      "text/plain": [
       "array([0, 3, 0, 0, 1, 3, 0, 1, 1, 0, 2, 0, 1, 1, 2, 3, 3, 0, 3, 1, 0, 0,\n",
       "       0, 3, 3, 0, 1, 3, 1, 3, 0, 3, 3, 3, 3, 1, 0, 3, 0, 3, 3, 0, 0, 0,\n",
       "       0, 0, 2, 0, 0, 0, 3, 2, 0, 0, 0, 1, 3, 3, 3, 0, 3, 0, 3, 0, 0, 0,\n",
       "       0, 3, 0, 1, 0, 0, 0, 0, 3, 1, 0, 1, 0, 1, 1, 3, 0, 0, 0, 0, 0, 0,\n",
       "       3, 0, 1, 3, 1, 0, 1, 0, 0, 3, 3, 0, 1, 1, 0, 2, 0, 0, 0, 0, 0, 0,\n",
       "       1, 3, 1, 1, 2, 1, 0, 3, 0, 2, 3, 3, 1, 3, 3, 0, 0, 0, 2, 3, 3, 0,\n",
       "       3, 2, 1, 0, 0, 0, 3, 1, 1, 0, 0, 3, 1, 0, 0, 1, 0, 0, 1, 3, 0, 0,\n",
       "       0, 0, 0, 3, 1, 2, 3, 0, 3, 0, 1, 0, 0, 0, 1, 1, 1, 3, 3, 0, 0, 0,\n",
       "       3, 0, 3, 0])"
      ]
     },
     "execution_count": 19,
     "metadata": {},
     "output_type": "execute_result"
    }
   ],
   "source": [
    "model.predict(X_test)"
   ]
  },
  {
   "cell_type": "code",
   "execution_count": 20,
   "metadata": {},
   "outputs": [
    {
     "data": {
      "text/plain": [
       "array([1, 3, 0, 3, 2, 2, 0, 1, 1, 0, 2, 3, 3, 1, 3, 2, 3, 0, 0, 0, 0, 0,\n",
       "       0, 3, 0, 0, 0, 3, 3, 1, 2, 3, 0, 3, 3, 1, 0, 3, 3, 3, 3, 1, 0, 2,\n",
       "       0, 0, 3, 1, 3, 0, 0, 1, 0, 1, 1, 1, 3, 3, 1, 1, 3, 0, 0, 0, 1, 2,\n",
       "       1, 0, 3, 1, 3, 0, 0, 0, 3, 2, 0, 2, 0, 3, 0, 3, 0, 2, 0, 0, 0, 0,\n",
       "       3, 0, 2, 3, 3, 1, 0, 3, 0, 0, 3, 0, 1, 2, 1, 0, 1, 2, 0, 0, 0, 0,\n",
       "       1, 0, 0, 3, 2, 1, 0, 0, 0, 1, 3, 3, 3, 1, 3, 0, 0, 0, 2, 0, 3, 0,\n",
       "       3, 3, 0, 3, 3, 0, 0, 1, 0, 0, 3, 3, 1, 0, 3, 1, 2, 0, 1, 3, 0, 0,\n",
       "       1, 0, 1, 1, 1, 2, 1, 0, 3, 0, 0, 0, 3, 0, 0, 1, 1, 3, 1, 3, 3, 0,\n",
       "       0, 0, 3, 1])"
      ]
     },
     "execution_count": 20,
     "metadata": {},
     "output_type": "execute_result"
    }
   ],
   "source": [
    "labels = np.array(test['label'])\n",
    "labels"
   ]
  },
  {
   "cell_type": "markdown",
   "metadata": {},
   "source": [
    "## Accuracy"
   ]
  },
  {
   "cell_type": "code",
   "execution_count": 21,
   "metadata": {},
   "outputs": [
    {
     "name": "stdout",
     "output_type": "stream",
     "text": [
      "Performance on training set\n",
      "Accuracy: 0.96\n"
     ]
    }
   ],
   "source": [
    "# Accuracy on modeling set\n",
    "y_hat_modeling = model.predict(X_modeling)\n",
    "acc = np.round(np.mean(y_modeling == y_hat_modeling),2)\n",
    "print(\"Performance on training set\")\n",
    "print('Accuracy: {}'.format(acc))"
   ]
  },
  {
   "cell_type": "code",
   "execution_count": 22,
   "metadata": {},
   "outputs": [
    {
     "name": "stdout",
     "output_type": "stream",
     "text": [
      "Performance on validation set\n",
      "Accuracy: 0.58\n"
     ]
    }
   ],
   "source": [
    "# Accuracy on 5-fold cross-validation\n",
    "print(\"Performance on validation set\")\n",
    "print('Accuracy: {}'.format(round(clf.best_score_,2)))"
   ]
  },
  {
   "cell_type": "code",
   "execution_count": 23,
   "metadata": {},
   "outputs": [
    {
     "name": "stdout",
     "output_type": "stream",
     "text": [
      "Performance on test set\n",
      "Accuracy: 0.56\n"
     ]
    }
   ],
   "source": [
    "# Accuracy on test set\n",
    "y_hat_test = model.predict(X_test)\n",
    "acc = np.round(np.mean(y_test == y_hat_test),2)\n",
    "print(\"Performance on test set\")\n",
    "print('Accuracy: {}'.format(acc))"
   ]
  },
  {
   "cell_type": "markdown",
   "metadata": {},
   "source": [
    "## Confusion Matrix"
   ]
  },
  {
   "cell_type": "code",
   "execution_count": 24,
   "metadata": {},
   "outputs": [],
   "source": [
    "# Prepare class names for display\n",
    "class_dict = {0: 'correct', 1:'correct_but_incomplete', 2:'contradictory', 3:'incorrect'}\n",
    "class_ids = list(np.unique(y_test))\n",
    "class_names = [class_dict[cid] for cid in class_ids]"
   ]
  },
  {
   "cell_type": "code",
   "execution_count": 25,
   "metadata": {},
   "outputs": [
    {
     "name": "stdout",
     "output_type": "stream",
     "text": [
      "Confusion matrix, without normalization\n",
      "[[52  9  1 12]\n",
      " [14 16  2  6]\n",
      " [ 6  5  4  2]\n",
      " [14  6  3 28]]\n"
     ]
    },
    {
     "data": {
      "image/png": "[encoded data removed]",
      "text/plain": [
       "<Figure size 720x720 with 2 Axes>"
      ]
     },
     "metadata": {
      "needs_background": "light"
     },
     "output_type": "display_data"
    }
   ],
   "source": [
    "# Compute confusion matrix\n",
    "cnf_matrix = confusion_matrix(y_test, y_hat_test)\n",
    "np.set_printoptions(precision=2)\n",
    "\n",
    "# Plot non-normalized confusion matrix\n",
    "plt.figure(figsize=(10,10))\n",
    "plot_confusion_matrix(cnf_matrix, classes=class_names,\n",
    "                      title='Confusion matrix, without normalization',\n",
    "                      cmap=plt.cm.Blues)"
   ]
  },
  {
   "cell_type": "markdown",
   "metadata": {},
   "source": [
    "## Classification Report"
   ]
  },
  {
   "cell_type": "code",
   "execution_count": 26,
   "metadata": {},
   "outputs": [
    {
     "name": "stdout",
     "output_type": "stream",
     "text": [
      "                        precision    recall  f1-score   support\n",
      "\n",
      "               correct       0.60      0.70      0.65        74\n",
      "correct_but_incomplete       0.44      0.42      0.43        38\n",
      "         contradictory       0.40      0.24      0.30        17\n",
      "             incorrect       0.58      0.55      0.57        51\n",
      "\n",
      "             micro avg       0.56      0.56      0.56       180\n",
      "             macro avg       0.51      0.48      0.49       180\n",
      "          weighted avg       0.55      0.56      0.55       180\n",
      "\n"
     ]
    }
   ],
   "source": [
    "# Compute classification report\n",
    "clf_report = classification_report(y_test, y_hat_test, target_names=class_names)\n",
    "print(clf_report)"
   ]
  },
  {
   "cell_type": "code",
   "execution_count": null,
   "metadata": {},
   "outputs": [],
   "source": []
  }
 ],
 "metadata": {
  "kernelspec": {
   "display_name": "Python 3",
   "language": "python",
   "name": "python3"
  },
  "language_info": {
   "codemirror_mode": {
    "name": "ipython",
    "version": 3
   },
   "file_extension": ".py",
   "mimetype": "text/x-python",
   "name": "python",
   "nbconvert_exporter": "python",
   "pygments_lexer": "ipython3",
   "version": "3.6.5"
  }
 },
 "nbformat": 4,
 "nbformat_minor": 2
}
