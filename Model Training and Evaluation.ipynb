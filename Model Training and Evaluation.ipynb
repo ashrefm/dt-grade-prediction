{
 "cells": [
  {
   "cell_type": "code",
   "execution_count": 1,
   "metadata": {},
   "outputs": [],
   "source": [
    "import os\n",
    "import pickle\n",
    "\n",
    "import numpy as np\n",
    "from numpy.linalg import norm\n",
    "import pandas as pd\n",
    "import matplotlib.pyplot as plt\n",
    "from sklearn.linear_model import LogisticRegression\n",
    "from sklearn.metrics import confusion_matrix, classification_report\n",
    "from pyemd import emd\n",
    "\n",
    "from utils import get_hash\n",
    "from utils import Featurizer\n",
    "from utils import plot_confusion_matrix"
   ]
  },
  {
   "cell_type": "markdown",
   "metadata": {},
   "source": [
    "## Reading Data"
   ]
  },
  {
   "cell_type": "markdown",
   "metadata": {},
   "source": [
    "We will be reading modeling and test data that were prepared using a random split during the preprocessing phase.  \n",
    "The training set represents 70% from the instances in the original data.  \n",
    "We saved 10% to generate landmarks (student answers that will be combined to reference answers) in order to create features.  \n",
    "Because the data is small, we will be using a 10-fold evaluation strategy.  \n",
    "The test set contrains the remaining 20% of the orignal data."
   ]
  },
  {
   "cell_type": "code",
   "execution_count": 2,
   "metadata": {},
   "outputs": [
    {
     "name": "stdout",
     "output_type": "stream",
     "text": [
      "Found 628 instances in training set.\n",
      "Found 180 instances in test set.\n"
     ]
    }
   ],
   "source": [
    "train = pd.read_csv(os.path.join('munge', 'train.csv'))\n",
    "print('Found %d instances in training set.' %len(train))\n",
    "test = pd.read_csv(os.path.join('munge', 'test.csv'))\n",
    "print('Found %d instances in test set.' %len(test))"
   ]
  },
  {
   "cell_type": "markdown",
   "metadata": {},
   "source": [
    "Landmarks are oservations from the training set, a mixture of student answers and reference answers.  \n",
    "We will be using those landmarks to create similarity features using pre-trained word embeddings.    \n",
    "The embeddings in the landmark dataset have already been computed during the preprocessing phase."
   ]
  },
  {
   "cell_type": "code",
   "execution_count": 3,
   "metadata": {},
   "outputs": [
    {
     "name": "stdout",
     "output_type": "stream",
     "text": [
      "Found 318 landmarks.\n"
     ]
    },
    {
     "data": {
      "text/html": [
       "<div>\n",
       "<style scoped>\n",
       "    .dataframe tbody tr th:only-of-type {\n",
       "        vertical-align: middle;\n",
       "    }\n",
       "\n",
       "    .dataframe tbody tr th {\n",
       "        vertical-align: top;\n",
       "    }\n",
       "\n",
       "    .dataframe thead th {\n",
       "        text-align: right;\n",
       "    }\n",
       "</style>\n",
       "<table border=\"1\" class=\"dataframe\">\n",
       "  <thead>\n",
       "    <tr style=\"text-align: right;\">\n",
       "      <th></th>\n",
       "      <th>pd_hash</th>\n",
       "      <th>qu_hash</th>\n",
       "      <th>label</th>\n",
       "      <th>answer</th>\n",
       "      <th>embedding</th>\n",
       "    </tr>\n",
       "  </thead>\n",
       "  <tbody>\n",
       "    <tr>\n",
       "      <th>0</th>\n",
       "      <td>1e16b87c67</td>\n",
       "      <td>a149b85e97</td>\n",
       "      <td>0</td>\n",
       "      <td>Since the windshield exerts a force on the mos...</td>\n",
       "      <td>[0.07263770470252404, 0.05414287860576923, 0.0...</td>\n",
       "    </tr>\n",
       "    <tr>\n",
       "      <th>1</th>\n",
       "      <td>1e16b87c67</td>\n",
       "      <td>a149b85e97</td>\n",
       "      <td>0</td>\n",
       "      <td>The action  is the windshield squashing the mo...</td>\n",
       "      <td>[0.0673675537109375, 0.05970594618055555, 0.00...</td>\n",
       "    </tr>\n",
       "    <tr>\n",
       "      <th>2</th>\n",
       "      <td>1e16b87c67</td>\n",
       "      <td>a149b85e97</td>\n",
       "      <td>0</td>\n",
       "      <td>The force exerted by the windshield on the mos...</td>\n",
       "      <td>[0.043080647786458336, 0.06363932291666667, 0....</td>\n",
       "    </tr>\n",
       "    <tr>\n",
       "      <th>3</th>\n",
       "      <td>1e16b87c67</td>\n",
       "      <td>a149b85e97</td>\n",
       "      <td>0</td>\n",
       "      <td>The force exerted by the windshield on the mos...</td>\n",
       "      <td>[0.05015497622282609, 0.07818868885869565, 0.0...</td>\n",
       "    </tr>\n",
       "    <tr>\n",
       "      <th>4</th>\n",
       "      <td>0c186b934b</td>\n",
       "      <td>af26c01763</td>\n",
       "      <td>0</td>\n",
       "      <td>The forces acting on the puck while it is betw...</td>\n",
       "      <td>[0.011857874253216912, 0.04596191294053022, 0....</td>\n",
       "    </tr>\n",
       "  </tbody>\n",
       "</table>\n",
       "</div>"
      ],
      "text/plain": [
       "      pd_hash     qu_hash  label  \\\n",
       "0  1e16b87c67  a149b85e97      0   \n",
       "1  1e16b87c67  a149b85e97      0   \n",
       "2  1e16b87c67  a149b85e97      0   \n",
       "3  1e16b87c67  a149b85e97      0   \n",
       "4  0c186b934b  af26c01763      0   \n",
       "\n",
       "                                              answer  \\\n",
       "0  Since the windshield exerts a force on the mos...   \n",
       "1  The action  is the windshield squashing the mo...   \n",
       "2  The force exerted by the windshield on the mos...   \n",
       "3  The force exerted by the windshield on the mos...   \n",
       "4  The forces acting on the puck while it is betw...   \n",
       "\n",
       "                                           embedding  \n",
       "0  [0.07263770470252404, 0.05414287860576923, 0.0...  \n",
       "1  [0.0673675537109375, 0.05970594618055555, 0.00...  \n",
       "2  [0.043080647786458336, 0.06363932291666667, 0....  \n",
       "3  [0.05015497622282609, 0.07818868885869565, 0.0...  \n",
       "4  [0.011857874253216912, 0.04596191294053022, 0....  "
      ]
     },
     "execution_count": 3,
     "metadata": {},
     "output_type": "execute_result"
    }
   ],
   "source": [
    "landmarks = pd.read_csv(os.path.join('munge', 'landmarks.txt'), sep=\"\\t\")\n",
    "landmarks['embedding'] = landmarks['embedding'].apply(lambda x : list(map(float, x.split(','))))\n",
    "print('Found %d landmarks.' %len(landmarks))\n",
    "landmarks.head()"
   ]
  },
  {
   "cell_type": "markdown",
   "metadata": {},
   "source": [
    "## Feature Engineering"
   ]
  },
  {
   "cell_type": "markdown",
   "metadata": {},
   "source": [
    "Fist, we need a featurizer to perform text actions like generating embeddings and computing different similarity scores between phrases.  \n",
    "This will help measure contextual similarity between a student answer and a reference answer for example."
   ]
  },
  {
   "cell_type": "code",
   "execution_count": 4,
   "metadata": {},
   "outputs": [
    {
     "name": "stdout",
     "output_type": "stream",
     "text": [
      "INFO: Loading word vectors...\n",
      "INFO: Done! Using 3000000 word vectors from pre-trained word2vec.\n"
     ]
    }
   ],
   "source": [
    "# Create a featurizer object that converts a phrase into embedding vector using pre-trained word2vec\n",
    "emb_file = os.path.join('data', 'GoogleNews-vectors-negative300.bin')\n",
    "featurizer = Featurizer(emb_file)"
   ]
  },
  {
   "cell_type": "markdown",
   "metadata": {},
   "source": [
    "Then, we may need a function that creates some features given an instance of a student answer to question:\n",
    "* Cosine similarities to all landmarks using the doc2vec embeddings\n",
    "* Ratio of tokens in each landmark that are not in the student answer\n",
    "* Ratio of tokens in student answer that are not in each landmark\n",
    "* Number of tokens in common between the student answer and each landmark\n",
    "* Flag to indicate wether of not the student answer contains no context (zero embedding)"
   ]
  },
  {
   "cell_type": "code",
   "execution_count": 5,
   "metadata": {},
   "outputs": [],
   "source": [
    "def get_features(landmarks, obs):\n",
    "    \"\"\"\"Create all features to represent an observation.\n",
    "    \n",
    "    Args:\n",
    "        landmarks (dataframe) landmark instances from preprocessing\n",
    "        obs : (series) one instance in train or test dataframe\n",
    "    \n",
    "    Returns:\n",
    "        features : a numpy vector with float numbers\n",
    "    \"\"\"\n",
    "        \n",
    "    # Get observation values\n",
    "    pd_hash = get_hash(obs['problem_description'])\n",
    "    qu_hash = get_hash(obs['question'])\n",
    "    emb = featurizer.doc2vec(obs['answer'])\n",
    "        \n",
    "    # Landmark of different question will get zero similarity (default)\n",
    "    qu_land = landmarks.copy()\n",
    "    qu_land['similarity'] = 0 # Compute cosine similarity with landmark\n",
    "    qu_land['asym_diff_left'] = 0 # asymmetric difference between answer and landmark\n",
    "    qu_land['asym_diff_right'] = 0 # asymmetric diffence between landmark and answer\n",
    "    qu_land['word_match'] = 0 # word match between landmark and answer\n",
    "    #qu_land['wmdist'] = 0 # world mover's distance between landmark and answer\n",
    "\n",
    "    # Compute similarity when embedding is not zero and landmark from same question\n",
    "    if norm(emb)!=0:\n",
    "        # Get index of landmarks with same problem  and question \n",
    "        idx = qu_land[(qu_land['pd_hash']==pd_hash) & (qu_land['qu_hash']==qu_hash)].index\n",
    "        # Compute the direct similarity with these landmarks\n",
    "        qu_land.loc[idx, 'similarity'] = qu_land.loc[idx, 'embedding'].apply(lambda x : featurizer.cossim_from_emb(emb, np.array(x)))\n",
    "        # Compute the asymmetric difference between answer and landmark\n",
    "        qu_land.loc[idx, 'asym_diff_left'] = qu_land.loc[idx, 'answer'].apply(lambda x : featurizer.asym_diff(obs['answer'], x))\n",
    "        # Compute the asymmetric difference between landmark and answer\n",
    "        qu_land.loc[idx, 'asym_diff_right'] = qu_land.loc[idx, 'answer'].apply(lambda x : featurizer.asym_diff(x, obs['answer']))\n",
    "        # Compute the word match ratio between answer and landmark\n",
    "        qu_land.loc[idx, 'word_match'] = qu_land.loc[idx, 'answer'].apply(lambda x : featurizer.word_match(obs['answer'], x))\n",
    "        # Compute the world mover's distance between answer and landmark\n",
    "        #qu_land.loc[idx, 'wmdist'] = qu_land.loc[idx, 'answer'].apply(lambda x : featurizer.wmdist(obs['answer'], x))\n",
    "\n",
    "    # Features will be all similarity measures to landmarks    \n",
    "    features = np.concatenate((qu_land['similarity'],\n",
    "                               qu_land['asym_diff_left'],\n",
    "                               qu_land['asym_diff_right'],\n",
    "                               qu_land['word_match']))\n",
    "     \n",
    "    # Add feature to indicate wether or not observation embedding was zero\n",
    "    if norm(emb)==0:\n",
    "        features = np.append(1, features)\n",
    "    else:\n",
    "        features = np.append(0, features)\n",
    "        \n",
    "    \"\"\"# Add a feature to indicate similarity to question\n",
    "    sim_to_qu = featurizer.cossim_from_phrase(obs['answer'], obs['question'])\n",
    "    features = np.append(sim_to_qu, features)\n",
    "\n",
    "    # Add a feature to indicate similarity to problem description\n",
    "    sim_to_pd = featurizer.cossim_from_phrase(obs['answer'], obs['problem_description'])\n",
    "    features = np.append(sim_to_pd, features)\"\"\"\n",
    "    \n",
    "    return features"
   ]
  },
  {
   "cell_type": "markdown",
   "metadata": {},
   "source": [
    "Now, we can extract features for all training and test instances and get their labels for training and evaluation."
   ]
  },
  {
   "cell_type": "code",
   "execution_count": 6,
   "metadata": {},
   "outputs": [
    {
     "name": "stdout",
     "output_type": "stream",
     "text": [
      "Number of features: 1273\n",
      "number of labels: 4\n"
     ]
    }
   ],
   "source": [
    "# Function to featurize a dataset\n",
    "def kernel_matrix(data, landmarks):\n",
    "    features = np.array(list(data.apply(lambda x : get_features(landmarks, x), axis=1)))\n",
    "    return(features)\n",
    "\n",
    "# Prepare features\n",
    "X_train = kernel_matrix(train, landmarks)\n",
    "X_test = kernel_matrix(test, landmarks)\n",
    "\n",
    "# Prepare labels\n",
    "y_train = np.array(train['label'])\n",
    "y_test = np.array(test['label'])\n",
    "\n",
    "print('Number of features: {}'.format(X_train.shape[1]))\n",
    "print('number of labels: {}'.format(np.unique(y_train).size))"
   ]
  },
  {
   "cell_type": "markdown",
   "metadata": {},
   "source": [
    "## Model Training"
   ]
  },
  {
   "cell_type": "markdown",
   "metadata": {},
   "source": [
    "Because the training set is quite small, we will not be using any complex non linear model as it may increase the risk of overfitting.  \n",
    "Tree based models like RandomForest and Xgboost are not well-suited especially if the number of features is high and is supposed to increase with more landmark answers coming from teachers and students.  \n",
    "Linear models combined to kernel features can lead to interesting results when the dataset is small.  \n",
    "We will then be using a penalized multinomial logistic regression (softmax) that we will be tuning using a 10-fold cross-validation strategy."
   ]
  },
  {
   "cell_type": "code",
   "execution_count": 9,
   "metadata": {
    "scrolled": true
   },
   "outputs": [
    {
     "name": "stdout",
     "output_type": "stream",
     "text": [
      "Fitting the classifier to the training set...\n",
      "Fitting 10 folds for each of 8 candidates, totalling 80 fits\n"
     ]
    },
    {
     "name": "stderr",
     "output_type": "stream",
     "text": [
      "[Parallel(n_jobs=-1)]: Using backend LokyBackend with 8 concurrent workers.\n",
      "[Parallel(n_jobs=-1)]: Done  34 tasks      | elapsed:    4.4s\n",
      "[Parallel(n_jobs=-1)]: Done  80 out of  80 | elapsed:   33.4s finished\n",
      "/anaconda3/lib/python3.6/site-packages/sklearn/model_selection/_search.py:841: DeprecationWarning: The default of the `iid` parameter will change from True to False in version 0.22 and will be removed in 0.24. This will change numeric results when test-set sizes are unequal.\n",
      "  DeprecationWarning)\n"
     ]
    },
    {
     "name": "stdout",
     "output_type": "stream",
     "text": [
      "Training took 33.634s\n",
      "Best score on cross-validation: 0.58\n",
      "Best estimator found by grid search:\n",
      "LogisticRegression(C=3, class_weight=None, dual=False, fit_intercept=True,\n",
      "          intercept_scaling=1, max_iter=1000, multi_class='multinomial',\n",
      "          n_jobs=None, penalty='l2', random_state=22, solver='lbfgs',\n",
      "          tol=0.0001, verbose=0, warm_start=False)\n"
     ]
    }
   ],
   "source": [
    "from sklearn.model_selection import GridSearchCV\n",
    "import time\n",
    "\n",
    "print(\"Fitting the classifier to the training set...\")\n",
    "t0 = time.time()\n",
    "\n",
    "param_grid = {'C': [1e-1, 3e-1, 1, 3, 1e1, 3e1, 1e2, 3e2]}\n",
    "clf = GridSearchCV(LogisticRegression(random_state=22, solver='lbfgs', max_iter=1000, multi_class='multinomial'),\n",
    "                   param_grid,\n",
    "                   cv=10,\n",
    "                   verbose=1,\n",
    "                   n_jobs=-1)\n",
    "\n",
    "clf = clf.fit(X_train, y_train)\n",
    "model = clf.best_estimator_\n",
    "if not os.path.exists('model'):\n",
    "        os.makedirs('model')\n",
    "pickle.dump(model, open(os.path.join('model', 'multinomial_lr.pkl'), 'wb'))\n",
    "\n",
    "print(\"Training took %.3fs\" %(time.time() - t0))\n",
    "print(\"Best score on cross-validation: %.2f\" %clf.best_score_)\n",
    "print(\"Best estimator found by grid search:\")\n",
    "print(model)"
   ]
  },
  {
   "cell_type": "markdown",
   "metadata": {},
   "source": [
    "## Model Evaluation"
   ]
  },
  {
   "cell_type": "markdown",
   "metadata": {},
   "source": [
    "Let's run predictions on all instances in the test set.  \n",
    "We can measure the accuracy of these predictions and the F1-score accross the different classes."
   ]
  },
  {
   "cell_type": "code",
   "execution_count": 10,
   "metadata": {},
   "outputs": [
    {
     "data": {
      "text/plain": [
       "array([0, 3, 0, 0, 1, 3, 0, 1, 1, 0, 2, 0, 1, 1, 2, 3, 3, 0, 3, 1, 0, 0,\n",
       "       0, 3, 3, 0, 1, 0, 1, 3, 2, 3, 3, 3, 3, 0, 0, 1, 3, 3, 3, 0, 0, 2,\n",
       "       0, 3, 2, 0, 3, 0, 3, 2, 0, 0, 0, 1, 0, 3, 1, 0, 3, 0, 3, 0, 0, 0,\n",
       "       0, 0, 0, 1, 3, 1, 0, 3, 1, 1, 0, 1, 0, 1, 0, 3, 0, 2, 0, 2, 0, 0,\n",
       "       3, 0, 2, 3, 1, 3, 1, 0, 0, 0, 2, 0, 1, 3, 0, 2, 0, 1, 0, 0, 0, 0,\n",
       "       1, 3, 1, 1, 2, 0, 0, 0, 0, 1, 3, 3, 3, 3, 3, 0, 0, 0, 2, 2, 2, 0,\n",
       "       3, 2, 1, 0, 3, 0, 1, 1, 0, 0, 0, 3, 1, 0, 0, 1, 3, 0, 1, 3, 0, 0,\n",
       "       0, 0, 1, 3, 1, 2, 3, 0, 3, 0, 1, 0, 3, 0, 1, 1, 1, 3, 0, 2, 0, 0,\n",
       "       2, 0, 3, 0])"
      ]
     },
     "execution_count": 10,
     "metadata": {},
     "output_type": "execute_result"
    }
   ],
   "source": [
    "model.predict(X_test)"
   ]
  },
  {
   "cell_type": "markdown",
   "metadata": {},
   "source": [
    "### Accuracy"
   ]
  },
  {
   "cell_type": "code",
   "execution_count": 11,
   "metadata": {},
   "outputs": [
    {
     "name": "stdout",
     "output_type": "stream",
     "text": [
      "Performance on training set\n",
      "Accuracy: 0.75\n"
     ]
    }
   ],
   "source": [
    "# Accuracy on training set\n",
    "y_hat_train = model.predict(X_train)\n",
    "acc = np.round(np.mean(y_train == y_hat_train),2)\n",
    "print(\"Performance on training set\")\n",
    "print('Accuracy: {}'.format(acc))"
   ]
  },
  {
   "cell_type": "code",
   "execution_count": 12,
   "metadata": {},
   "outputs": [
    {
     "name": "stdout",
     "output_type": "stream",
     "text": [
      "Performance on 10-fold cross-valiation\n",
      "Accuracy: 0.58\n"
     ]
    }
   ],
   "source": [
    "# Accuracy on 10-fold cross-validation\n",
    "print(\"Performance on 10-fold cross-valiation\")\n",
    "print('Accuracy: {}'.format(round(clf.best_score_,2)))"
   ]
  },
  {
   "cell_type": "code",
   "execution_count": 13,
   "metadata": {},
   "outputs": [
    {
     "name": "stdout",
     "output_type": "stream",
     "text": [
      "Performance on test set\n",
      "Accuracy: 0.59\n"
     ]
    }
   ],
   "source": [
    "# Accuracy on test set\n",
    "y_hat_test = model.predict(X_test)\n",
    "acc = np.round(np.mean(y_test == y_hat_test),2)\n",
    "print(\"Performance on test set\")\n",
    "print('Accuracy: {}'.format(acc))"
   ]
  },
  {
   "cell_type": "markdown",
   "metadata": {},
   "source": [
    "We can notice some overfitting to the training data.  \n",
    "This can be solved by getting more data or reducing the number of complex features.  \n",
    "What is important is the stability we get from the cross-validation strategy (very close performance to test set).  \n",
    "We can use the 10-fold cv to tune the model and estimate the performance on final test instances."
   ]
  },
  {
   "cell_type": "markdown",
   "metadata": {},
   "source": [
    "### Confusion Matrix"
   ]
  },
  {
   "cell_type": "markdown",
   "metadata": {},
   "source": [
    "The confusion matrix helps understand the performance of the model by comparing the predictions on test set to actual labels."
   ]
  },
  {
   "cell_type": "code",
   "execution_count": 14,
   "metadata": {},
   "outputs": [],
   "source": [
    "# Prepare class names for display\n",
    "class_dict = {0:'correct', 1:'correct_but_incomplete', 2:'contradictory', 3:'incorrect'}\n",
    "class_ids = list(np.unique(y_test))\n",
    "class_names = [class_dict[cid] for cid in class_ids]"
   ]
  },
  {
   "cell_type": "code",
   "execution_count": 17,
   "metadata": {},
   "outputs": [
    {
     "name": "stdout",
     "output_type": "stream",
     "text": [
      "Confusion matrix, without normalization\n",
      "[[53  9  4  8]\n",
      " [15 17  1  5]\n",
      " [ 1  4  8  4]\n",
      " [10  7  6 28]]\n"
     ]
    },
    {
     "data": {
      "image/png": "[encoded data removed]",
      "text/plain": [
       "<Figure size 720x720 with 2 Axes>"
      ]
     },
     "metadata": {
      "needs_background": "light"
     },
     "output_type": "display_data"
    }
   ],
   "source": [
    "# Compute confusion matrix\n",
    "cnf_matrix = confusion_matrix(y_test, y_hat_test)\n",
    "np.set_printoptions(precision=2)\n",
    "\n",
    "# Plot non-normalized confusion matrix\n",
    "plt.figure(figsize=(10,10))\n",
    "plot_confusion_matrix(cnf_matrix, classes=class_names,\n",
    "                      title='Confusion matrix, without normalization',\n",
    "                      cmap=plt.cm.Blues)"
   ]
  },
  {
   "cell_type": "markdown",
   "metadata": {},
   "source": [
    "**Here is an example of how we can draw insights**  \n",
    "Errors come mainly from \"correct\" false postive predictions. Many of them are being classified as \"incorrect\" or \"correct_but_incomplete\".  \n",
    "We can use error analysis to examine some instances and come up with new feature engineering ideas that improve the predictions.  \n",
    "(We need to do this on a validation set and not the final test.)"
   ]
  },
  {
   "cell_type": "markdown",
   "metadata": {},
   "source": [
    "### Classification Report"
   ]
  },
  {
   "cell_type": "code",
   "execution_count": 18,
   "metadata": {},
   "outputs": [
    {
     "name": "stdout",
     "output_type": "stream",
     "text": [
      "                        precision    recall  f1-score   support\n",
      "\n",
      "               correct       0.67      0.72      0.69        74\n",
      "correct_but_incomplete       0.46      0.45      0.45        38\n",
      "         contradictory       0.42      0.47      0.44        17\n",
      "             incorrect       0.62      0.55      0.58        51\n",
      "\n",
      "             micro avg       0.59      0.59      0.59       180\n",
      "             macro avg       0.54      0.55      0.54       180\n",
      "          weighted avg       0.59      0.59      0.59       180\n",
      "\n"
     ]
    }
   ],
   "source": [
    "# Compute classification report\n",
    "clf_report = classification_report(y_test, y_hat_test, target_names=class_names)\n",
    "print(clf_report)"
   ]
  },
  {
   "cell_type": "markdown",
   "metadata": {},
   "source": [
    "Manual error analysis can also be helpful if we need to increase the F-score on the minority classes\n",
    "(\"contradictory\" and \"correct_but_incomplete\")."
   ]
  },
  {
   "cell_type": "markdown",
   "metadata": {},
   "source": [
    "## Optional (Build a conservative system)"
   ]
  },
  {
   "cell_type": "markdown",
   "metadata": {},
   "source": [
    "Actually, the model generates probabily values for each class.  \n",
    "But the prediction is coming from the class with the highest probability of belief, even if this probability is low.  \n",
    "We can think of a system saying \"I don't know\" every time this probability is below a certain threshold.  \n",
    "This can help generate more accurate predictions and encourage more data labeling by teachers that can improve training the ML system.\n",
    "\n",
    "Let's see how the system behaves if we modify the decision threshold that allows the prediction to be sent or not."
   ]
  },
  {
   "cell_type": "code",
   "execution_count": 20,
   "metadata": {},
   "outputs": [
    {
     "name": "stderr",
     "output_type": "stream",
     "text": [
      "/anaconda3/lib/python3.6/site-packages/numpy/core/fromnumeric.py:3118: RuntimeWarning: Mean of empty slice.\n",
      "  out=out, **kwargs)\n",
      "/anaconda3/lib/python3.6/site-packages/numpy/core/_methods.py:85: RuntimeWarning: invalid value encountered in double_scalars\n",
      "  ret = ret.dtype.type(ret / rcount)\n"
     ]
    },
    {
     "data": {
      "image/png": "[encoded data removed]",
      "text/plain": [
       "<Figure size 1080x432 with 1 Axes>"
      ]
     },
     "metadata": {
      "needs_background": "light"
     },
     "output_type": "display_data"
    }
   ],
   "source": [
    "def get_prediction(X, thresh):\n",
    "    \"\"\"\"Generate class predictions with 99 indicating unknown class.\"\"\"\n",
    "    \n",
    "    pred = model.predict_proba(X)\n",
    "    pred = [[(class_id, proba) for (class_id, proba) in enumerate(p) if proba == np.max(p)] for p in pred]\n",
    "    pred = [p[0][0] if p[0][1]>thresh else 99 for p in pred]\n",
    "    return np.array(pred)\n",
    "\n",
    "def get_performance(predictions, labels, thresh):\n",
    "    \"\"\"Measure the accuracy and the unknown rate depending on the threshold\n",
    "    \n",
    "    Args:\n",
    "        predictions: np.array of class predictions\n",
    "        label: list of labels\n",
    "        thresh: distance threshold above which the prediction becomes unknown\n",
    "        \n",
    "    Returns:\n",
    "        accuracy: proportion of correct predictions when not unkown\n",
    "        unknown_rate: proportion of predictions that are unknown    \n",
    "    \"\"\"\n",
    "    \n",
    "    # Measure the rate of known predictions\n",
    "    response_rate = 1 - np.mean(predictions==99)\n",
    "    \n",
    "    # Get the indices of predictions to keep\n",
    "    known_idx = [i for i in range(len(predictions)) if predictions[i]!=99]\n",
    "    \n",
    "    # get predictions that are not unknown\n",
    "    mini_predictions = np.array([predictions[idx] for idx in known_idx])\n",
    "    mini_labels = np.array([labels[idx] for idx in known_idx])\n",
    "    \n",
    "    # Measure the accuracy\n",
    "    accuracy = np.mean(mini_predictions == mini_labels)\n",
    "    \n",
    "    # Ouput dictionary\n",
    "    output = {'accuracy': accuracy,\n",
    "              'response_rate': response_rate}\n",
    "    \n",
    "    return output\n",
    "\n",
    "\n",
    "# Plot the performance against the threshold\n",
    "accuracy = []\n",
    "response_rate = []\n",
    "threshold = np.linspace(start = 0, stop = 1, num=100)\n",
    "\n",
    "for thresh in threshold:\n",
    "    predictions = get_prediction(X_test, thresh)\n",
    "    labels = y_test\n",
    "    perf = get_performance(predictions, labels, thresh)\n",
    "    accuracy.append(perf['accuracy'])\n",
    "    response_rate.append(perf['response_rate'])\n",
    "    \n",
    "plt.figure(figsize=(15,6))\n",
    "plt.plot(threshold, response_rate)\n",
    "plt.plot(threshold, accuracy)\n",
    "plt.legend(['response_rate', 'accuracy'], loc='lower right')\n",
    "plt.title('Accuracy vs Response rate')\n",
    "plt.xlabel('Threshold')\n",
    "plt.grid(True)\n",
    "plt.show()"
   ]
  },
  {
   "cell_type": "markdown",
   "metadata": {},
   "source": [
    "The accuracy could increase up to 90% with a higher decision threshold but the response rate from the system will decrease significantly to 30%."
   ]
  },
  {
   "cell_type": "code",
   "execution_count": null,
   "metadata": {},
   "outputs": [],
   "source": []
  }
 ],
 "metadata": {
  "kernelspec": {
   "display_name": "Python 3",
   "language": "python",
   "name": "python3"
  },
  "language_info": {
   "codemirror_mode": {
    "name": "ipython",
    "version": 3
   },
   "file_extension": ".py",
   "mimetype": "text/x-python",
   "name": "python",
   "nbconvert_exporter": "python",
   "pygments_lexer": "ipython3",
   "version": "3.6.5"
  }
 },
 "nbformat": 4,
 "nbformat_minor": 2
}
