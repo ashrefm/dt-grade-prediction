{
 "cells": [
  {
   "cell_type": "code",
   "execution_count": 1,
   "metadata": {},
   "outputs": [],
   "source": [
    "import os\n",
    "\n",
    "import numpy as np\n",
    "from numpy.linalg import norm\n",
    "import pandas as pd\n",
    "import matplotlib.pyplot as plt\n",
    "from sklearn.linear_model import LogisticRegression\n",
    "from sklearn.metrics import confusion_matrix, classification_report\n",
    "import xgboost as xgb\n",
    "\n",
    "from utils import get_hash\n",
    "from utils import Featurizer\n",
    "from utils import plot_confusion_matrix"
   ]
  },
  {
   "cell_type": "code",
   "execution_count": 2,
   "metadata": {},
   "outputs": [],
   "source": [
    "pd.set_option('display.max_colwidth', 1000)"
   ]
  },
  {
   "cell_type": "code",
   "execution_count": 3,
   "metadata": {},
   "outputs": [
    {
     "name": "stdout",
     "output_type": "stream",
     "text": [
      "Loading word vectors...\n",
      "Done! Using 3000000 word vectors from pre-trained word2vec.\n"
     ]
    }
   ],
   "source": [
    "# Create a featurizer object that converts a phrase into embedding vector\n",
    "emb_file = os.path.join(\"munge\", \"GoogleNews-vectors-negative300.bin\")\n",
    "featurizer = Featurizer(emb_file)"
   ]
  },
  {
   "cell_type": "code",
   "execution_count": 4,
   "metadata": {},
   "outputs": [],
   "source": [
    "train = pd.read_csv(os.path.join(\"munge\", \"train.csv\"))\n",
    "dev = pd.read_csv(os.path.join(\"munge\", \"dev.csv\"))\n",
    "test = pd.read_csv(os.path.join(\"munge\", \"test.csv\"))"
   ]
  },
  {
   "cell_type": "code",
   "execution_count": 5,
   "metadata": {},
   "outputs": [],
   "source": [
    "landmarks = pd.read_csv(os.path.join(\"munge\", \"landmarks.txt\"), sep=\"\\t\")\n",
    "# Convert embeddings from string to list of floats\n",
    "landmarks['embedding'] = landmarks['embedding'].apply(lambda x : list(map(float, x.split(','))))"
   ]
  },
  {
   "cell_type": "code",
   "execution_count": 6,
   "metadata": {},
   "outputs": [
    {
     "data": {
      "text/html": [
       "<div>\n",
       "<style scoped>\n",
       "    .dataframe tbody tr th:only-of-type {\n",
       "        vertical-align: middle;\n",
       "    }\n",
       "\n",
       "    .dataframe tbody tr th {\n",
       "        vertical-align: top;\n",
       "    }\n",
       "\n",
       "    .dataframe thead th {\n",
       "        text-align: right;\n",
       "    }\n",
       "</style>\n",
       "<table border=\"1\" class=\"dataframe\">\n",
       "  <thead>\n",
       "    <tr style=\"text-align: right;\">\n",
       "      <th></th>\n",
       "      <th>pd_hash</th>\n",
       "      <th>qu_hash</th>\n",
       "      <th>label</th>\n",
       "      <th>answer</th>\n",
       "      <th>embedding</th>\n",
       "    </tr>\n",
       "  </thead>\n",
       "  <tbody>\n",
       "    <tr>\n",
       "      <th>0</th>\n",
       "      <td>5059c9cfbb</td>\n",
       "      <td>27570f5d10</td>\n",
       "      <td>0</td>\n",
       "      <td>An object at rest will stay at rest and at object moving with constant velocity in a straight line will continue moving with constant velocity in a straight line as long as the net force acting on the object is zero.</td>\n",
       "      <td>[0.043226543225740134, 0.05086477179276316, 0.004102204975328948, 0.08553916529605263, -0.11326358192845394, 0.0079345703125, 0.02952174136513158, -0.09862638774671052, 0.09353477076480263, 0.07488371196546052, -0.045334665398848686, -0.05470034950657895, 0.009296618009868422, 0.03263975444592928, -0.07456247430098684, -0.043000070672286186, 0.0681714509662829, 0.05730639005962171, 0.026761506733141448, -0.08490793328536184, -0.03785243787263569, 0.023219058388157895, -0.04699385793585526, 0.031169289036800985, 0.055525127210115134, -0.06940982216282894, -0.044355693616365134, 0.08826807925575658, 0.035105655067845395, 0.003956041837993421, -0.00803576017680921, -0.08172386570980675, -0.05374787983141447, -0.06255942896792763, -0.03405520790501645, 0.015109815095600328, -0.015681216591282895, -0.023267244037828948, 0.017786929481907895, 0.007946215177837172, 0.08617842824835527, -0.05055477744654605, 0.08140162417763158, -0.020729466488486843, -0.038055419921875, -0.028676083213404...</td>\n",
       "    </tr>\n",
       "  </tbody>\n",
       "</table>\n",
       "</div>"
      ],
      "text/plain": [
       "      pd_hash     qu_hash  label  \\\n",
       "0  5059c9cfbb  27570f5d10      0   \n",
       "\n",
       "                                                                                                                                                                                                                     answer  \\\n",
       "0  An object at rest will stay at rest and at object moving with constant velocity in a straight line will continue moving with constant velocity in a straight line as long as the net force acting on the object is zero.   \n",
       "\n",
       "                                                                                                                                                                                                                                                                                                                                                                                                                                                                                                                                                                                                                                                                                                                                                                                                                                                                                                                                                                                                                                 embedding  \n",
       "0  [0.043226543225740134, 0.05086477179276316, 0.004102204975328948, 0.08553916529605263, -0.11326358192845394, 0.0079345703125, 0.02952174136513158, -0.09862638774671052, 0.09353477076480263, 0.07488371196546052, -0.045334665398848686, -0.05470034950657895, 0.009296618009868422, 0.03263975444592928, -0.07456247430098684, -0.043000070672286186, 0.0681714509662829, 0.05730639005962171, 0.026761506733141448, -0.08490793328536184, -0.03785243787263569, 0.023219058388157895, -0.04699385793585526, 0.031169289036800985, 0.055525127210115134, -0.06940982216282894, -0.044355693616365134, 0.08826807925575658, 0.035105655067845395, 0.003956041837993421, -0.00803576017680921, -0.08172386570980675, -0.05374787983141447, -0.06255942896792763, -0.03405520790501645, 0.015109815095600328, -0.015681216591282895, -0.023267244037828948, 0.017786929481907895, 0.007946215177837172, 0.08617842824835527, -0.05055477744654605, 0.08140162417763158, -0.020729466488486843, -0.038055419921875, -0.028676083213404...  "
      ]
     },
     "execution_count": 6,
     "metadata": {},
     "output_type": "execute_result"
    }
   ],
   "source": [
    "landmarks.head(1)"
   ]
  },
  {
   "cell_type": "code",
   "execution_count": 8,
   "metadata": {},
   "outputs": [],
   "source": [
    "def get_features(landmarks, obs):\n",
    "        \n",
    "    # Get observation values\n",
    "    pd_hash = get_hash(obs['problem_description'])\n",
    "    qu_hash = get_hash(obs['question'])\n",
    "    emb = featurizer.doc2vec(obs['answer'])\n",
    "        \n",
    "    # Landmark of different question will get zero similarity (default)\n",
    "    qu_land = landmarks.copy()\n",
    "    qu_land['similarity'] = 0\n",
    "    \n",
    "    # Compute similarity when embedding is not zero and landmark from same question\n",
    "    if norm(emb)!=0:\n",
    "        # Get index of landmarks with same problem  and question \n",
    "        idx = qu_land[(qu_land['pd_hash']==pd_hash) & (qu_land['qu_hash']==qu_hash)].index\n",
    "        # Compute the similarity with these landmarks\n",
    "        qu_land.loc[idx, 'similarity'] = qu_land.loc[idx, 'embedding'].apply(lambda x : featurizer.cossim_from_emb(emb, np.array(x)))\n",
    "        \n",
    "    # Features will be all similarity measures to landmarks\n",
    "    features = np.array(qu_land['similarity'])\n",
    "    \n",
    "    # Add feature to indicate wether or not observation embedding was zero\n",
    "    if norm(emb)==0:\n",
    "        features = np.append(1, features)\n",
    "    else:\n",
    "        features = np.append(0, features)\n",
    "        \n",
    "    # Add features to indicate similarity to question and to problem description\n",
    "    if norm(emb)==0:\n",
    "        sim_to_qu = 0\n",
    "        sim_to_pd = 0\n",
    "    else:\n",
    "        sim_to_qu = featurizer.cossim_from_phrase(obs['answer'], obs['question'])\n",
    "        sim_to_pd = featurizer.cossim_from_phrase(obs['answer'], obs['problem_description'])\n",
    "    features = np.append(sim_to_qu, features)\n",
    "    features = np.append(sim_to_pd, features)\n",
    "\n",
    "    return features"
   ]
  },
  {
   "cell_type": "code",
   "execution_count": 9,
   "metadata": {},
   "outputs": [],
   "source": [
    "def kernel_matrix(data, landmarks):\n",
    "    \n",
    "    features = np.array(list(data.apply(lambda x : get_features(landmarks, x), axis=1)))\n",
    "    return(features)"
   ]
  },
  {
   "cell_type": "code",
   "execution_count": 10,
   "metadata": {},
   "outputs": [],
   "source": [
    "X_train = kernel_matrix(train, landmarks)\n",
    "X_dev = kernel_matrix(dev, landmarks)\n",
    "X_test = kernel_matrix(test, landmarks)\n",
    "\n",
    "y_train = np.array(train['label'])\n",
    "y_dev = np.array(dev['label'])\n",
    "y_test = np.array(test['label'])"
   ]
  },
  {
   "cell_type": "code",
   "execution_count": 49,
   "metadata": {},
   "outputs": [],
   "source": [
    "model = LogisticRegression(random_state=22, solver='lbfgs', max_iter=1000, C=100,\n",
    "                           multi_class='multinomial').fit(X_train, y_train)"
   ]
  },
  {
   "cell_type": "code",
   "execution_count": 90,
   "metadata": {},
   "outputs": [
    {
     "name": "stdout",
     "output_type": "stream",
     "text": [
      "Fitting the classifier to the training set...\n"
     ]
    },
    {
     "name": "stderr",
     "output_type": "stream",
     "text": [
      "/anaconda3/lib/python3.6/site-packages/sklearn/model_selection/_search.py:841: DeprecationWarning: The default of the `iid` parameter will change from True to False in version 0.22 and will be removed in 0.24. This will change numeric results when test-set sizes are unequal.\n",
      "  DeprecationWarning)\n"
     ]
    },
    {
     "name": "stdout",
     "output_type": "stream",
     "text": [
      "done in 77.251s\n",
      "Best estimator found by grid search:\n",
      "LogisticRegression(C=100.0, class_weight=None, dual=False, fit_intercept=True,\n",
      "          intercept_scaling=1, max_iter=1000, multi_class='multinomial',\n",
      "          n_jobs=None, penalty='l2', random_state=22, solver='lbfgs',\n",
      "          tol=0.0001, verbose=0, warm_start=False)\n"
     ]
    }
   ],
   "source": [
    "from sklearn.model_selection import GridSearchCV\n",
    "import time\n",
    "\n",
    "print(\"Fitting the classifier to the training set...\")\n",
    "t0 = time.time()\n",
    "\n",
    "param_grid = {'C': [1e-6, 1e-5, 1e-4, 1e-3, 1e-2, 1e-1, 1, 1e2, 1e3, 1e4]}\n",
    "clf = GridSearchCV(LogisticRegression(random_state=22, solver='lbfgs', max_iter=1000, multi_class='multinomial'),\n",
    "                   param_grid,\n",
    "                   cv=20,\n",
    "                   n_jobs=-1)\n",
    "\n",
    "clf = clf.fit(np.concatenate((X_train, X_dev)), np.concatenate((y_train, y_dev)))\n",
    "model = clf.best_estimator_\n",
    "\n",
    "print(\"done in %0.3fs\" % (time.time() - t0))\n",
    "print(\"Best estimator found by grid search:\")\n",
    "print(model)"
   ]
  },
  {
   "cell_type": "code",
   "execution_count": null,
   "metadata": {
    "scrolled": true
   },
   "outputs": [],
   "source": [
    "model = xgb.XGBClassifier(\n",
    "    objective=\"multi:softprob\",\n",
    "    n_estimators=500,\n",
    "    learning_rate=0.1,\n",
    "    subsample=1,\n",
    "    max_depth=3,\n",
    "    random_state=22)\n",
    "\n",
    "model.fit(X_train, y_train, eval_set=[(X_train, y_train), (X_dev, y_dev)])"
   ]
  },
  {
   "cell_type": "markdown",
   "metadata": {},
   "source": [
    "# Performance Evaluation"
   ]
  },
  {
   "cell_type": "code",
   "execution_count": 91,
   "metadata": {},
   "outputs": [
    {
     "data": {
      "text/plain": [
       "array([1, 2, 0, 3, 0, 3, 0, 1, 0, 1, 0, 0, 0, 3, 3, 0, 3, 0, 1, 3, 3, 0,\n",
       "       0, 0, 3, 0, 0, 0, 1, 1, 1, 0, 0, 3, 1, 1, 1, 1, 3, 0, 1, 0, 0, 1,\n",
       "       1, 3, 0, 0, 0, 0, 2, 1, 3, 3, 0, 0, 3, 0, 0, 0, 0, 0, 3, 3, 2, 2,\n",
       "       1, 1, 0, 3, 3, 2, 0, 0, 1, 1, 3, 0, 0, 3, 3, 0, 3, 0, 3, 0, 1, 0,\n",
       "       1, 0, 2, 2, 1, 3, 0, 0, 3, 0, 1, 1, 3, 0, 3, 3, 3, 0, 3, 0, 3, 0,\n",
       "       3, 0, 1, 0, 1, 0, 0, 1, 0, 0, 0, 0, 0, 1, 1, 0, 3, 3, 3, 1, 1, 0,\n",
       "       0, 1, 2, 3, 1, 0, 3, 0, 0, 0, 0, 1, 1, 3, 1, 2, 0, 0, 1, 1, 0, 1,\n",
       "       2, 0, 3, 1, 1, 0, 3, 1, 0, 0, 0, 0, 3, 2, 3, 2, 2, 0, 1, 3, 2, 0,\n",
       "       1, 0, 3, 0])"
      ]
     },
     "execution_count": 91,
     "metadata": {},
     "output_type": "execute_result"
    }
   ],
   "source": [
    "model.predict(X_dev)"
   ]
  },
  {
   "cell_type": "code",
   "execution_count": 92,
   "metadata": {},
   "outputs": [
    {
     "data": {
      "text/plain": [
       "array([1, 2, 0, 0, 0, 3, 0, 1, 0, 1, 0, 0, 0, 3, 3, 0, 3, 0, 1, 3, 0, 0,\n",
       "       0, 0, 3, 0, 1, 1, 1, 1, 3, 0, 0, 3, 1, 3, 1, 0, 2, 0, 1, 0, 0, 0,\n",
       "       3, 3, 0, 0, 0, 0, 2, 1, 3, 3, 0, 0, 3, 0, 0, 0, 0, 0, 0, 3, 2, 2,\n",
       "       1, 1, 0, 1, 3, 2, 0, 0, 1, 1, 3, 1, 0, 3, 3, 0, 2, 0, 3, 0, 1, 0,\n",
       "       1, 0, 3, 1, 1, 3, 2, 0, 3, 0, 1, 1, 1, 0, 3, 3, 3, 0, 3, 0, 3, 0,\n",
       "       3, 3, 0, 0, 1, 0, 0, 1, 0, 0, 0, 0, 0, 1, 1, 0, 3, 2, 3, 1, 1, 0,\n",
       "       0, 3, 2, 3, 1, 0, 3, 0, 0, 1, 0, 1, 1, 3, 1, 2, 0, 0, 1, 1, 0, 1,\n",
       "       2, 0, 3, 1, 1, 0, 3, 1, 2, 0, 0, 0, 3, 2, 3, 2, 2, 0, 1, 3, 2, 0,\n",
       "       1, 0, 3, 0])"
      ]
     },
     "execution_count": 92,
     "metadata": {},
     "output_type": "execute_result"
    }
   ],
   "source": [
    "labels = np.array(dev['label'])\n",
    "labels"
   ]
  },
  {
   "cell_type": "markdown",
   "metadata": {},
   "source": [
    "## Accuracy"
   ]
  },
  {
   "cell_type": "code",
   "execution_count": 93,
   "metadata": {},
   "outputs": [
    {
     "name": "stdout",
     "output_type": "stream",
     "text": [
      "Performance on training set\n",
      "Accuracy: 0.95\n"
     ]
    }
   ],
   "source": [
    "# Final accuracy\n",
    "y_hat_train = model.predict(X_train)\n",
    "acc = np.round(np.mean(y_train == y_hat_train),2)\n",
    "print(\"Performance on training set\")\n",
    "print('Accuracy: {}'.format(acc))"
   ]
  },
  {
   "cell_type": "code",
   "execution_count": 94,
   "metadata": {},
   "outputs": [
    {
     "name": "stdout",
     "output_type": "stream",
     "text": [
      "Performance on dev set\n",
      "Accuracy: 0.87\n"
     ]
    }
   ],
   "source": [
    "# Final accuracy\n",
    "y_hat_dev = model.predict(X_dev)\n",
    "acc = np.round(np.mean(y_dev == y_hat_dev),2)\n",
    "print(\"Performance on dev set\")\n",
    "print('Accuracy: {}'.format(acc))"
   ]
  },
  {
   "cell_type": "code",
   "execution_count": 95,
   "metadata": {},
   "outputs": [
    {
     "name": "stdout",
     "output_type": "stream",
     "text": [
      "Performance on test set\n",
      "Accuracy: 0.57\n"
     ]
    }
   ],
   "source": [
    "# Final accuracy\n",
    "y_hat_test = model.predict(X_test)\n",
    "acc = np.round(np.mean(y_test == y_hat_test),2)\n",
    "print(\"Performance on test set\")\n",
    "print('Accuracy: {}'.format(acc))"
   ]
  },
  {
   "cell_type": "markdown",
   "metadata": {},
   "source": [
    "## Confusion Matrix"
   ]
  },
  {
   "cell_type": "code",
   "execution_count": 40,
   "metadata": {},
   "outputs": [],
   "source": [
    "# Get class names for display\n",
    "class_dict = {0: 'correct', 1:'correct_but_incomplete', 2:'contradictory', 3:'incorrect'}\n",
    "class_ids = list(np.unique(y_test))\n",
    "class_names = [class_dict[cid] for cid in class_ids]"
   ]
  },
  {
   "cell_type": "code",
   "execution_count": 41,
   "metadata": {},
   "outputs": [
    {
     "name": "stdout",
     "output_type": "stream",
     "text": [
      "Confusion matrix, without normalization\n",
      "[[53  9  3  9]\n",
      " [13 17  0  8]\n",
      " [ 5  4  4  4]\n",
      " [ 9 10  5 27]]\n"
     ]
    },
    {
     "data": {
      "image/png": "[encoded data removed]",
      "text/plain": [
       "<Figure size 720x720 with 2 Axes>"
      ]
     },
     "metadata": {
      "needs_background": "light"
     },
     "output_type": "display_data"
    }
   ],
   "source": [
    "# Compute confusion matrix\n",
    "cnf_matrix = confusion_matrix(y_test, y_hat_test)\n",
    "np.set_printoptions(precision=2)\n",
    "\n",
    "# Plot non-normalized confusion matrix\n",
    "plt.figure(figsize=(10,10))\n",
    "plot_confusion_matrix(cnf_matrix, classes=class_names,\n",
    "                      title='Confusion matrix, without normalization',\n",
    "                      cmap=plt.cm.Blues)"
   ]
  },
  {
   "cell_type": "markdown",
   "metadata": {},
   "source": [
    "## Classification Report"
   ]
  },
  {
   "cell_type": "code",
   "execution_count": 42,
   "metadata": {},
   "outputs": [
    {
     "name": "stdout",
     "output_type": "stream",
     "text": [
      "                        precision    recall  f1-score   support\n",
      "\n",
      "               correct       0.66      0.72      0.69        74\n",
      "correct_but_incomplete       0.42      0.45      0.44        38\n",
      "         contradictory       0.33      0.24      0.28        17\n",
      "             incorrect       0.56      0.53      0.55        51\n",
      "\n",
      "             micro avg       0.56      0.56      0.56       180\n",
      "             macro avg       0.50      0.48      0.49       180\n",
      "          weighted avg       0.55      0.56      0.56       180\n",
      "\n"
     ]
    }
   ],
   "source": [
    "# Compute classification report\n",
    "clf_report = classification_report(y_test, y_hat_test, target_names=class_names)\n",
    "print(clf_report)"
   ]
  },
  {
   "cell_type": "markdown",
   "metadata": {},
   "source": [
    "# Error Analysis"
   ]
  },
  {
   "cell_type": "code",
   "execution_count": 30,
   "metadata": {},
   "outputs": [],
   "source": [
    "dev['pred'] = y_hat_dev"
   ]
  },
  {
   "cell_type": "code",
   "execution_count": 31,
   "metadata": {
    "scrolled": false
   },
   "outputs": [
    {
     "data": {
      "text/html": [
       "<div>\n",
       "<style scoped>\n",
       "    .dataframe tbody tr th:only-of-type {\n",
       "        vertical-align: middle;\n",
       "    }\n",
       "\n",
       "    .dataframe tbody tr th {\n",
       "        vertical-align: top;\n",
       "    }\n",
       "\n",
       "    .dataframe thead th {\n",
       "        text-align: right;\n",
       "    }\n",
       "</style>\n",
       "<table border=\"1\" class=\"dataframe\">\n",
       "  <thead>\n",
       "    <tr style=\"text-align: right;\">\n",
       "      <th></th>\n",
       "      <th>instance_id</th>\n",
       "      <th>student_id</th>\n",
       "      <th>task_id</th>\n",
       "      <th>problem_description</th>\n",
       "      <th>question</th>\n",
       "      <th>answer</th>\n",
       "      <th>reference_answers</th>\n",
       "      <th>label</th>\n",
       "      <th>pred</th>\n",
       "    </tr>\n",
       "  </thead>\n",
       "  <tbody>\n",
       "    <tr>\n",
       "      <th>7</th>\n",
       "      <td>246</td>\n",
       "      <td>DTSU033</td>\n",
       "      <td>LP03_PR12.push.accel.bMLK.sh</td>\n",
       "      <td>While speeding up, a large truck pushes a small compact car.</td>\n",
       "      <td>How does Newton's third law apply to this situation?</td>\n",
       "      <td>The truck and car exert equal amount of force on each other.</td>\n",
       "      <td>1:  The force from the car on the truck and the force from the truck on the car are a Third Law pair. Thus, the forces are equal in magnitude and opposite in direction. 2:  The forces exerted by the truck and car are equal and opposite. 3:  The forces from the truck and car are equal and opposite. 4:  The force from the truck and the force from the car are equal and opposite. 5:  The force from the truck and the force from the car are form action reaction pair.</td>\n",
       "      <td>1</td>\n",
       "      <td>0</td>\n",
       "    </tr>\n",
       "    <tr>\n",
       "      <th>18</th>\n",
       "      <td>806</td>\n",
       "      <td>DTSU024</td>\n",
       "      <td>LP03_PR12.push.accel.bMLK</td>\n",
       "      <td>While speeding up, a large truck pushes a small compact car.</td>\n",
       "      <td>How does Newton's third law apply to this situation?</td>\n",
       "      <td>The large truck exerts a force on the car, and the car will exert the same force on the truck</td>\n",
       "      <td>1:  The force from the car on the truck and the force from the truck on the car are a Third Law pair. Thus, the forces are equal in magnitude and opposite in direction. 2:  The forces exerted by the truck and car are equal and opposite. 3:  The forces from the truck and car are equal and opposite. 4:  The force from the truck and the force from the car are equal and opposite. 5:  The force from the truck and the force from the car form action reaction pair.</td>\n",
       "      <td>1</td>\n",
       "      <td>0</td>\n",
       "    </tr>\n",
       "    <tr>\n",
       "      <th>26</th>\n",
       "      <td>171</td>\n",
       "      <td>DTSU013</td>\n",
       "      <td>FM_LV04_PR05</td>\n",
       "      <td>Two hockey players pass a puck between them on an ice rink. Assume that the ice is very smooth so that there is no friction.</td>\n",
       "      <td>Based on Newton's first law, what can you say about the trajectory and speed of the puck?</td>\n",
       "      <td>It will move in a straight line and stay on the ice.</td>\n",
       "      <td>1:  The puck will move in a straight line with a constant speed.</td>\n",
       "      <td>1</td>\n",
       "      <td>0</td>\n",
       "    </tr>\n",
       "    <tr>\n",
       "      <th>27</th>\n",
       "      <td>883</td>\n",
       "      <td>DTSU008</td>\n",
       "      <td>FM_LV03_PR07</td>\n",
       "      <td>A mover pushes a desk with a horizontal force such that the desk moves with constant velocity v0 across a carpeted floor. Suddenly, the mover doubles his force.</td>\n",
       "      <td>Which other Newton law is relevant now given that we established that there is a non-zero net force on the desk after the mover doubles his force?</td>\n",
       "      <td>Newton's second law is relevant</td>\n",
       "      <td>1:  When the mover doubles his force, the push is greater than friction resulting in a non-zero net force acting on the desk and so Newton's second law can be applied. 2:  Newton's second law applies as there is a non-zero net force. 3:  Newton's 2nd law applies as a non-zero net force acts on the desk</td>\n",
       "      <td>1</td>\n",
       "      <td>0</td>\n",
       "    </tr>\n",
       "    <tr>\n",
       "      <th>29</th>\n",
       "      <td>709</td>\n",
       "      <td>DTSU027</td>\n",
       "      <td>LP03_PR12.push.accel.bMLK</td>\n",
       "      <td>While speeding up, a large truck pushes a small compact car.</td>\n",
       "      <td>How does Newton's third law apply to this situation?</td>\n",
       "      <td>The force of the truck is equal to the force of the car.</td>\n",
       "      <td>1:  The force from the car on the truck and the force from the truck on the car are a Third Law pair. Thus, the forces are equal in magnitude and opposite in direction. 2:  The forces exerted by the truck and car are equal and opposite. 3:  The forces from the truck and car are equal and opposite. 4:  The force from the truck and the force from the car are equal and opposite. 5:  The force from the truck and the force from the car form action reaction pair.</td>\n",
       "      <td>1</td>\n",
       "      <td>0</td>\n",
       "    </tr>\n",
       "    <tr>\n",
       "      <th>51</th>\n",
       "      <td>734</td>\n",
       "      <td>DTSU024</td>\n",
       "      <td>FM_LVxx_PR01</td>\n",
       "      <td>A rocket pushes a meteor with constant force. Assume that the meteor is initially at rest and is far enough away from the sun and the planets to neglect gravity.</td>\n",
       "      <td>Given the non-zero net force acting on the meteor, what does Newton's second law say about the acceleration of the meteor?</td>\n",
       "      <td>Since there is a non-zero net force, the acceleration of the meteor will also be non-zero</td>\n",
       "      <td>1:  Because there is a net force acting on the meteor, which is the same as the push from the rocket as no other forces are acting on it, the meteor will move with a non-zero acceleration in the direction of the net force. 2:  The push from the rocket makes the meteor move with a non-zero acceleration, according to Newton's second law. 3:  According to Newton's second law, the push from the rocket will make the meteor move with constant acceleration in the direction of the force. 4:  The push from the rocket will make the meteor move with increasing velocity. 5:  According to Newton's second law, a non-zero net force means a non-zero acceleration in the direction of the net force. 6:  The push from the rocket will make the meteor move with constant acceleration in the direction of the push. 7:  The push from the rocket will make the meteor move with constant acceleration. 8:  The acceleration of the meteor is constant. 9:  The net or total force on the meteor is the same as the pus...</td>\n",
       "      <td>1</td>\n",
       "      <td>0</td>\n",
       "    </tr>\n",
       "    <tr>\n",
       "      <th>69</th>\n",
       "      <td>439</td>\n",
       "      <td>DTSU008</td>\n",
       "      <td>FM_LVxx_PR01</td>\n",
       "      <td>A rocket pushes a meteor with constant force. Assume that the meteor is initially at rest and is far enough away from the sun and the planets to neglect gravity.</td>\n",
       "      <td>Given that the meteor starts at rest and then has a constant acceleration, what else can you say about the meteor's motion?</td>\n",
       "      <td>the meteor's motion will be in the same direction as the rocket</td>\n",
       "      <td>1:  The meteor will move with increasing velocity. 2:  The meteor moves with constant acceleration and its velocity will keep increasing in the direction of the force as long as the rocket pushes. 3:  Because the meteor's acceleration is constant while the rocket pushes, the meteor will move with increasing velocity. 4:  The meteor will speed up. 5:  The meteor's speed will increase. 6:  The meteor will move faster and faster</td>\n",
       "      <td>1</td>\n",
       "      <td>0</td>\n",
       "    </tr>\n",
       "    <tr>\n",
       "      <th>74</th>\n",
       "      <td>697</td>\n",
       "      <td>DTSU032</td>\n",
       "      <td>LP03_PR09.bLK</td>\n",
       "      <td>A car windshield collides with a mosquito, squashing it.</td>\n",
       "      <td>How does Newton's third law apply to this situation?</td>\n",
       "      <td>FOR EVERY ACTION THERE IS AN EQUAL AND OPPOSITE REACTION AND THE BUG WAS SQUASHED</td>\n",
       "      <td>1:  Since the windshield exerts a force on the mosquito, which we can call action, the mosquito exerts an equal and opposite force on the windshield, called the reaction. 2:  The action  is the windshield squashing the mosquito, and the equal and opposite reaction is the mosquito hitting the windshield. 3:  The force exerted by the windshield on the mosquito and the force exerted by the mosquito on the windshield are a third-law pair of action and reaction. 4:  The force exerted by the windshield on the mosquito and the force exerted by the mosquito on the windshield are an action-reaction pair</td>\n",
       "      <td>1</td>\n",
       "      <td>0</td>\n",
       "    </tr>\n",
       "    <tr>\n",
       "      <th>77</th>\n",
       "      <td>192</td>\n",
       "      <td>DTSU036</td>\n",
       "      <td>FM_LV04_PR05</td>\n",
       "      <td>Two hockey players pass a puck between them on an ice rink. Assume that the ice is very smooth so that there is no friction.</td>\n",
       "      <td>Based on Newton's first law, what can you say about the trajectory and speed of the puck?</td>\n",
       "      <td>the trajectory and speed of the puck is constant</td>\n",
       "      <td>1:  The puck will move in a straight line with a constant speed.</td>\n",
       "      <td>1</td>\n",
       "      <td>0</td>\n",
       "    </tr>\n",
       "    <tr>\n",
       "      <th>99</th>\n",
       "      <td>19</td>\n",
       "      <td>DTSU035</td>\n",
       "      <td>FM_LVxx_PR01.sh</td>\n",
       "      <td>A rocket pushes a meteor with constant force. Assume that the meteor is initially at rest and is far enough away from the sun and the planets to neglect gravity.</td>\n",
       "      <td>Given the non-zero net force acting on the meteor, what does Newton's second law say about the acceleration of the meteor?</td>\n",
       "      <td>Acceleration must be positive.</td>\n",
       "      <td>1:  Because there is a net force acting on the meteor, which is the same as the push from the rocket as no other forces are acting on it, the meteor will move with a non-zero acceleration in the direction of the net force. 2:  The push from the rocket makes the meteor move with a non-zero acceleration, according to Newton's second law. 3:  According to Newton's second law, the push from the rocket will make the meteor move with constant acceleration in the direction of the force. 4:  The push from the rocket will make the meteor move with increasing velocity. 5:  According to Newton's second law, a non-zero net force means a non-zero acceleration in the direction of the net force. 6:  The push from the rocket will make the meteor move with constant acceleration in the direction of the push. 7:  The push from the rocket will make the meteor move with constant acceleration. 8:  The acceleration of the meteor is constant. 9:  The net or total force on the meteor is the same as the pus...</td>\n",
       "      <td>1</td>\n",
       "      <td>0</td>\n",
       "    </tr>\n",
       "    <tr>\n",
       "      <th>117</th>\n",
       "      <td>377</td>\n",
       "      <td>DTSU001</td>\n",
       "      <td>FM_LV04_PR05.sh</td>\n",
       "      <td>Two hockey players pass a puck between them on an ice rink. Assume that the ice is very smooth so that there is no friction.</td>\n",
       "      <td>Based on Newton's first law, what can you say about the trajectory and speed of the puck?</td>\n",
       "      <td>The puck will stay at a constant speed</td>\n",
       "      <td>1:  The puck will move in a straight line with a constant speed. 2:  Puck moves in a straight line with a constant speed.</td>\n",
       "      <td>1</td>\n",
       "      <td>0</td>\n",
       "    </tr>\n",
       "    <tr>\n",
       "      <th>123</th>\n",
       "      <td>425</td>\n",
       "      <td>DTSU002</td>\n",
       "      <td>LP03_PR09.bLK.sh</td>\n",
       "      <td>A car windshield collides with a mosquito, squashing it.</td>\n",
       "      <td>How does Newton's third law apply to this situation?</td>\n",
       "      <td>The mosquito and windshield are exerting forces on each other.</td>\n",
       "      <td>1:  Since the windshield exerts a force on the mosquito, which we can call action, the mosquito exerts an equal and opposite force on the windshield, called the reaction. 2:  The action  is the windshield squashing the mosquito, and the equal and opposite reaction is the mosquito hitting the windshield. 3:  The force exerted by the windshield on the mosquito and the force exerted by the mosquito on the windshield are a third-law pair of action and reaction. 4:  The force exerted by the windshield on the mosquito and the force exerted by the mosquito on the windshield are an action-reaction pair</td>\n",
       "      <td>1</td>\n",
       "      <td>0</td>\n",
       "    </tr>\n",
       "    <tr>\n",
       "      <th>130</th>\n",
       "      <td>708</td>\n",
       "      <td>DTSU005</td>\n",
       "      <td>LP03_PR12.push.accel.bMLK</td>\n",
       "      <td>While speeding up, a large truck pushes a small compact car.</td>\n",
       "      <td>How does Newton's third law apply to this situation?</td>\n",
       "      <td>they both apply a force on each other</td>\n",
       "      <td>1:  The force from the car on the truck and the force from the truck on the car are a Third Law pair. Thus, the forces are equal in magnitude and opposite in direction. 2:  The forces exerted by the truck and car are equal and opposite. 3:  The forces from the truck and car are equal and opposite. 4:  The force from the truck and the force from the car are equal and opposite. 5:  The force from the truck and the force from the car form action reaction pair.</td>\n",
       "      <td>1</td>\n",
       "      <td>0</td>\n",
       "    </tr>\n",
       "    <tr>\n",
       "      <th>141</th>\n",
       "      <td>542</td>\n",
       "      <td>DTSU023</td>\n",
       "      <td>LP03_PR12.push.accel.bMLK.sh</td>\n",
       "      <td>While speeding up, a large truck pushes a small compact car.</td>\n",
       "      <td>Can you articulate a principle or definition which justifies your answer?</td>\n",
       "      <td>newton's third alw states that an action has an equal an opposite reactionary force</td>\n",
       "      <td>1:  For every action, there is an equal and opposite reaction. 2:  Whenever one object exerts a force on a second object, the second object exerts an equal and opposite force on the first. 3:  According to Newton's third law, for every action, there is an equal and opposite reaction.</td>\n",
       "      <td>1</td>\n",
       "      <td>0</td>\n",
       "    </tr>\n",
       "    <tr>\n",
       "      <th>143</th>\n",
       "      <td>849</td>\n",
       "      <td>DTSU033</td>\n",
       "      <td>FM_LV03_PR07.sh</td>\n",
       "      <td>A mover pushes a desk with a horizontal force such that the desk moves with constant velocity v0 across a carpeted floor. Suddenly, the mover doubles his force.</td>\n",
       "      <td>What can you say about the speed of the desk? Explain why.</td>\n",
       "      <td>The velocity will not be constant anymore.</td>\n",
       "      <td>1:  The desk moves with increasing velocity. 2:  The desk will move with constant acceleration and the speed will increase. 3:  The desk increases its speed as the net force is non-zero. 4:  The desk increases its speed as the net force is not zero anymore.</td>\n",
       "      <td>1</td>\n",
       "      <td>0</td>\n",
       "    </tr>\n",
       "    <tr>\n",
       "      <th>150</th>\n",
       "      <td>715</td>\n",
       "      <td>DTSU033</td>\n",
       "      <td>LP03_PR09.bLK.sh</td>\n",
       "      <td>A car windshield collides with a mosquito, squashing it.</td>\n",
       "      <td>How does Newton's third law apply to this situation?</td>\n",
       "      <td>When the mosquito hits the windshield, the windshield applies the same amount of force to the mosquito.</td>\n",
       "      <td>1:  Since the windshield exerts a force on the mosquito, which we can call action, the mosquito exerts an equal and opposite force on the windshield, called the reaction. 2:  The action  is the windshield squashing the mosquito, and the equal and opposite reaction is the mosquito hitting the windshield. 3:  The force exerted by the windshield on the mosquito and the force exerted by the mosquito on the windshield are a third-law pair of action and reaction. 4:  The force exerted by the windshield on the mosquito and the force exerted by the mosquito on the windshield are an action-reaction pair</td>\n",
       "      <td>1</td>\n",
       "      <td>0</td>\n",
       "    </tr>\n",
       "    <tr>\n",
       "      <th>161</th>\n",
       "      <td>791</td>\n",
       "      <td>DTSU026</td>\n",
       "      <td>LP03_PR12.push.accel.bMLK.sh</td>\n",
       "      <td>While speeding up, a large truck pushes a small compact car.</td>\n",
       "      <td>How does Newton's third law apply to this situation?</td>\n",
       "      <td>the forces balance out each other</td>\n",
       "      <td>1:  The force from the car on the truck and the force from the truck on the car are a Third Law pair. Thus, the forces are equal in magnitude and opposite in direction. 2:  The forces exerted by the truck and car are equal and opposite. 3:  The forces from the truck and car are equal and opposite. 4:  The force from the truck and the force from the car are equal and opposite. 5:  The force from the truck and the force from the car are form action reaction pair.</td>\n",
       "      <td>1</td>\n",
       "      <td>0</td>\n",
       "    </tr>\n",
       "  </tbody>\n",
       "</table>\n",
       "</div>"
      ],
      "text/plain": [
       "     instance_id student_id                       task_id  \\\n",
       "7            246    DTSU033  LP03_PR12.push.accel.bMLK.sh   \n",
       "18           806    DTSU024     LP03_PR12.push.accel.bMLK   \n",
       "26           171    DTSU013                  FM_LV04_PR05   \n",
       "27           883    DTSU008                  FM_LV03_PR07   \n",
       "29           709    DTSU027     LP03_PR12.push.accel.bMLK   \n",
       "51           734    DTSU024                  FM_LVxx_PR01   \n",
       "69           439    DTSU008                  FM_LVxx_PR01   \n",
       "74           697    DTSU032                 LP03_PR09.bLK   \n",
       "77           192    DTSU036                  FM_LV04_PR05   \n",
       "99            19    DTSU035               FM_LVxx_PR01.sh   \n",
       "117          377    DTSU001               FM_LV04_PR05.sh   \n",
       "123          425    DTSU002              LP03_PR09.bLK.sh   \n",
       "130          708    DTSU005     LP03_PR12.push.accel.bMLK   \n",
       "141          542    DTSU023  LP03_PR12.push.accel.bMLK.sh   \n",
       "143          849    DTSU033               FM_LV03_PR07.sh   \n",
       "150          715    DTSU033              LP03_PR09.bLK.sh   \n",
       "161          791    DTSU026  LP03_PR12.push.accel.bMLK.sh   \n",
       "\n",
       "                                                                                                                                                   problem_description  \\\n",
       "7                                                                                                         While speeding up, a large truck pushes a small compact car.   \n",
       "18                                                                                                        While speeding up, a large truck pushes a small compact car.   \n",
       "26                                        Two hockey players pass a puck between them on an ice rink. Assume that the ice is very smooth so that there is no friction.   \n",
       "27    A mover pushes a desk with a horizontal force such that the desk moves with constant velocity v0 across a carpeted floor. Suddenly, the mover doubles his force.   \n",
       "29                                                                                                        While speeding up, a large truck pushes a small compact car.   \n",
       "51   A rocket pushes a meteor with constant force. Assume that the meteor is initially at rest and is far enough away from the sun and the planets to neglect gravity.   \n",
       "69   A rocket pushes a meteor with constant force. Assume that the meteor is initially at rest and is far enough away from the sun and the planets to neglect gravity.   \n",
       "74                                                                                                            A car windshield collides with a mosquito, squashing it.   \n",
       "77                                        Two hockey players pass a puck between them on an ice rink. Assume that the ice is very smooth so that there is no friction.   \n",
       "99   A rocket pushes a meteor with constant force. Assume that the meteor is initially at rest and is far enough away from the sun and the planets to neglect gravity.   \n",
       "117                                       Two hockey players pass a puck between them on an ice rink. Assume that the ice is very smooth so that there is no friction.   \n",
       "123                                                                                                           A car windshield collides with a mosquito, squashing it.   \n",
       "130                                                                                                       While speeding up, a large truck pushes a small compact car.   \n",
       "141                                                                                                       While speeding up, a large truck pushes a small compact car.   \n",
       "143   A mover pushes a desk with a horizontal force such that the desk moves with constant velocity v0 across a carpeted floor. Suddenly, the mover doubles his force.   \n",
       "150                                                                                                           A car windshield collides with a mosquito, squashing it.   \n",
       "161                                                                                                       While speeding up, a large truck pushes a small compact car.   \n",
       "\n",
       "                                                                                                                                               question  \\\n",
       "7                                                                                                  How does Newton's third law apply to this situation?   \n",
       "18                                                                                                 How does Newton's third law apply to this situation?   \n",
       "26                                                            Based on Newton's first law, what can you say about the trajectory and speed of the puck?   \n",
       "27   Which other Newton law is relevant now given that we established that there is a non-zero net force on the desk after the mover doubles his force?   \n",
       "29                                                                                                 How does Newton's third law apply to this situation?   \n",
       "51                           Given the non-zero net force acting on the meteor, what does Newton's second law say about the acceleration of the meteor?   \n",
       "69                          Given that the meteor starts at rest and then has a constant acceleration, what else can you say about the meteor's motion?   \n",
       "74                                                                                                 How does Newton's third law apply to this situation?   \n",
       "77                                                            Based on Newton's first law, what can you say about the trajectory and speed of the puck?   \n",
       "99                           Given the non-zero net force acting on the meteor, what does Newton's second law say about the acceleration of the meteor?   \n",
       "117                                                           Based on Newton's first law, what can you say about the trajectory and speed of the puck?   \n",
       "123                                                                                                How does Newton's third law apply to this situation?   \n",
       "130                                                                                                How does Newton's third law apply to this situation?   \n",
       "141                                                                           Can you articulate a principle or definition which justifies your answer?   \n",
       "143                                                                                          What can you say about the speed of the desk? Explain why.   \n",
       "150                                                                                                How does Newton's third law apply to this situation?   \n",
       "161                                                                                                How does Newton's third law apply to this situation?   \n",
       "\n",
       "                                                                                                      answer  \\\n",
       "7                                               The truck and car exert equal amount of force on each other.   \n",
       "18             The large truck exerts a force on the car, and the car will exert the same force on the truck   \n",
       "26                                                      It will move in a straight line and stay on the ice.   \n",
       "27                                                                           Newton's second law is relevant   \n",
       "29                                                  The force of the truck is equal to the force of the car.   \n",
       "51                 Since there is a non-zero net force, the acceleration of the meteor will also be non-zero   \n",
       "69                                           the meteor's motion will be in the same direction as the rocket   \n",
       "74                         FOR EVERY ACTION THERE IS AN EQUAL AND OPPOSITE REACTION AND THE BUG WAS SQUASHED   \n",
       "77                                                          the trajectory and speed of the puck is constant   \n",
       "99                                                                            Acceleration must be positive.   \n",
       "117                                                                   The puck will stay at a constant speed   \n",
       "123                                           The mosquito and windshield are exerting forces on each other.   \n",
       "130                                                                    they both apply a force on each other   \n",
       "141                      newton's third alw states that an action has an equal an opposite reactionary force   \n",
       "143                                                               The velocity will not be constant anymore.   \n",
       "150  When the mosquito hits the windshield, the windshield applies the same amount of force to the mosquito.   \n",
       "161                                                                        the forces balance out each other   \n",
       "\n",
       "                                                                                                                                                                                                                                                                                                                                                                                                                                                                                                                                                                                                                                                                                                                                                                                                                                                                                                                                                                                                                           reference_answers  \\\n",
       "7                                                                                                                                                                                                                                                                                                                                                                                                                                                                                                                                                          1:  The force from the car on the truck and the force from the truck on the car are a Third Law pair. Thus, the forces are equal in magnitude and opposite in direction. 2:  The forces exerted by the truck and car are equal and opposite. 3:  The forces from the truck and car are equal and opposite. 4:  The force from the truck and the force from the car are equal and opposite. 5:  The force from the truck and the force from the car are form action reaction pair.   \n",
       "18                                                                                                                                                                                                                                                                                                                                                                                                                                                                                                                                                             1:  The force from the car on the truck and the force from the truck on the car are a Third Law pair. Thus, the forces are equal in magnitude and opposite in direction. 2:  The forces exerted by the truck and car are equal and opposite. 3:  The forces from the truck and car are equal and opposite. 4:  The force from the truck and the force from the car are equal and opposite. 5:  The force from the truck and the force from the car form action reaction pair.   \n",
       "26                                                                                                                                                                                                                                                                                                                                                                                                                                                                                                                                                                                                                                                                                                                                                                                                                                                                                                                                                                          1:  The puck will move in a straight line with a constant speed.   \n",
       "27                                                                                                                                                                                                                                                                                                                                                                                                                                                                                                                                                                                                                                                                                                                           1:  When the mover doubles his force, the push is greater than friction resulting in a non-zero net force acting on the desk and so Newton's second law can be applied. 2:  Newton's second law applies as there is a non-zero net force. 3:  Newton's 2nd law applies as a non-zero net force acts on the desk   \n",
       "29                                                                                                                                                                                                                                                                                                                                                                                                                                                                                                                                                             1:  The force from the car on the truck and the force from the truck on the car are a Third Law pair. Thus, the forces are equal in magnitude and opposite in direction. 2:  The forces exerted by the truck and car are equal and opposite. 3:  The forces from the truck and car are equal and opposite. 4:  The force from the truck and the force from the car are equal and opposite. 5:  The force from the truck and the force from the car form action reaction pair.   \n",
       "51   1:  Because there is a net force acting on the meteor, which is the same as the push from the rocket as no other forces are acting on it, the meteor will move with a non-zero acceleration in the direction of the net force. 2:  The push from the rocket makes the meteor move with a non-zero acceleration, according to Newton's second law. 3:  According to Newton's second law, the push from the rocket will make the meteor move with constant acceleration in the direction of the force. 4:  The push from the rocket will make the meteor move with increasing velocity. 5:  According to Newton's second law, a non-zero net force means a non-zero acceleration in the direction of the net force. 6:  The push from the rocket will make the meteor move with constant acceleration in the direction of the push. 7:  The push from the rocket will make the meteor move with constant acceleration. 8:  The acceleration of the meteor is constant. 9:  The net or total force on the meteor is the same as the pus...   \n",
       "69                                                                                                                                                                                                                                                                                                                                                                                                                                                                                                                                                                                             1:  The meteor will move with increasing velocity. 2:  The meteor moves with constant acceleration and its velocity will keep increasing in the direction of the force as long as the rocket pushes. 3:  Because the meteor's acceleration is constant while the rocket pushes, the meteor will move with increasing velocity. 4:  The meteor will speed up. 5:  The meteor's speed will increase. 6:  The meteor will move faster and faster   \n",
       "74                                                                                                                                                                                                                                                                                                                                                                                                                 1:  Since the windshield exerts a force on the mosquito, which we can call action, the mosquito exerts an equal and opposite force on the windshield, called the reaction. 2:  The action  is the windshield squashing the mosquito, and the equal and opposite reaction is the mosquito hitting the windshield. 3:  The force exerted by the windshield on the mosquito and the force exerted by the mosquito on the windshield are a third-law pair of action and reaction. 4:  The force exerted by the windshield on the mosquito and the force exerted by the mosquito on the windshield are an action-reaction pair   \n",
       "77                                                                                                                                                                                                                                                                                                                                                                                                                                                                                                                                                                                                                                                                                                                                                                                                                                                                                                                                                                          1:  The puck will move in a straight line with a constant speed.   \n",
       "99   1:  Because there is a net force acting on the meteor, which is the same as the push from the rocket as no other forces are acting on it, the meteor will move with a non-zero acceleration in the direction of the net force. 2:  The push from the rocket makes the meteor move with a non-zero acceleration, according to Newton's second law. 3:  According to Newton's second law, the push from the rocket will make the meteor move with constant acceleration in the direction of the force. 4:  The push from the rocket will make the meteor move with increasing velocity. 5:  According to Newton's second law, a non-zero net force means a non-zero acceleration in the direction of the net force. 6:  The push from the rocket will make the meteor move with constant acceleration in the direction of the push. 7:  The push from the rocket will make the meteor move with constant acceleration. 8:  The acceleration of the meteor is constant. 9:  The net or total force on the meteor is the same as the pus...   \n",
       "117                                                                                                                                                                                                                                                                                                                                                                                                                                                                                                                                                                                                                                                                                                                                                                                                                                                                                                                1:  The puck will move in a straight line with a constant speed. 2:  Puck moves in a straight line with a constant speed.   \n",
       "123                                                                                                                                                                                                                                                                                                                                                                                                                1:  Since the windshield exerts a force on the mosquito, which we can call action, the mosquito exerts an equal and opposite force on the windshield, called the reaction. 2:  The action  is the windshield squashing the mosquito, and the equal and opposite reaction is the mosquito hitting the windshield. 3:  The force exerted by the windshield on the mosquito and the force exerted by the mosquito on the windshield are a third-law pair of action and reaction. 4:  The force exerted by the windshield on the mosquito and the force exerted by the mosquito on the windshield are an action-reaction pair   \n",
       "130                                                                                                                                                                                                                                                                                                                                                                                                                                                                                                                                                            1:  The force from the car on the truck and the force from the truck on the car are a Third Law pair. Thus, the forces are equal in magnitude and opposite in direction. 2:  The forces exerted by the truck and car are equal and opposite. 3:  The forces from the truck and car are equal and opposite. 4:  The force from the truck and the force from the car are equal and opposite. 5:  The force from the truck and the force from the car form action reaction pair.   \n",
       "141                                                                                                                                                                                                                                                                                                                                                                                                                                                                                                                                                                                                                                                                                                                                             1:  For every action, there is an equal and opposite reaction. 2:  Whenever one object exerts a force on a second object, the second object exerts an equal and opposite force on the first. 3:  According to Newton's third law, for every action, there is an equal and opposite reaction.   \n",
       "143                                                                                                                                                                                                                                                                                                                                                                                                                                                                                                                                                                                                                                                                                                                                                                        1:  The desk moves with increasing velocity. 2:  The desk will move with constant acceleration and the speed will increase. 3:  The desk increases its speed as the net force is non-zero. 4:  The desk increases its speed as the net force is not zero anymore.   \n",
       "150                                                                                                                                                                                                                                                                                                                                                                                                                1:  Since the windshield exerts a force on the mosquito, which we can call action, the mosquito exerts an equal and opposite force on the windshield, called the reaction. 2:  The action  is the windshield squashing the mosquito, and the equal and opposite reaction is the mosquito hitting the windshield. 3:  The force exerted by the windshield on the mosquito and the force exerted by the mosquito on the windshield are a third-law pair of action and reaction. 4:  The force exerted by the windshield on the mosquito and the force exerted by the mosquito on the windshield are an action-reaction pair   \n",
       "161                                                                                                                                                                                                                                                                                                                                                                                                                                                                                                                                                        1:  The force from the car on the truck and the force from the truck on the car are a Third Law pair. Thus, the forces are equal in magnitude and opposite in direction. 2:  The forces exerted by the truck and car are equal and opposite. 3:  The forces from the truck and car are equal and opposite. 4:  The force from the truck and the force from the car are equal and opposite. 5:  The force from the truck and the force from the car are form action reaction pair.   \n",
       "\n",
       "     label  pred  \n",
       "7        1     0  \n",
       "18       1     0  \n",
       "26       1     0  \n",
       "27       1     0  \n",
       "29       1     0  \n",
       "51       1     0  \n",
       "69       1     0  \n",
       "74       1     0  \n",
       "77       1     0  \n",
       "99       1     0  \n",
       "117      1     0  \n",
       "123      1     0  \n",
       "130      1     0  \n",
       "141      1     0  \n",
       "143      1     0  \n",
       "150      1     0  \n",
       "161      1     0  "
      ]
     },
     "execution_count": 31,
     "metadata": {},
     "output_type": "execute_result"
    }
   ],
   "source": [
    "dev[(dev['label']==1) & (dev['pred']==0)]"
   ]
  },
  {
   "cell_type": "code",
   "execution_count": null,
   "metadata": {},
   "outputs": [],
   "source": []
  }
 ],
 "metadata": {
  "kernelspec": {
   "display_name": "Python 3",
   "language": "python",
   "name": "python3"
  },
  "language_info": {
   "codemirror_mode": {
    "name": "ipython",
    "version": 3
   },
   "file_extension": ".py",
   "mimetype": "text/x-python",
   "name": "python",
   "nbconvert_exporter": "python",
   "pygments_lexer": "ipython3",
   "version": "3.6.5"
  }
 },
 "nbformat": 4,
 "nbformat_minor": 2
}
