{
 "cells": [
  {
   "cell_type": "code",
   "execution_count": 1,
   "metadata": {},
   "outputs": [],
   "source": [
    "import os\n",
    "\n",
    "import numpy as np\n",
    "import pandas as pd\n",
    "import matplotlib.pyplot as plt\n",
    "from sklearn.linear_model import LogisticRegression\n",
    "from sklearn.metrics import confusion_matrix, classification_report\n",
    "import xgboost as xgb\n",
    "\n",
    "from utils import get_hash\n",
    "from utils import Featurizer\n",
    "from utils import plot_confusion_matrix"
   ]
  },
  {
   "cell_type": "code",
   "execution_count": 2,
   "metadata": {},
   "outputs": [],
   "source": [
    "pd.set_option('display.max_colwidth', 1000)"
   ]
  },
  {
   "cell_type": "code",
   "execution_count": 3,
   "metadata": {},
   "outputs": [
    {
     "name": "stdout",
     "output_type": "stream",
     "text": [
      "Loading word vectors...\n",
      "Done! Using 3000000 word vectors from pre-trained word2vec.\n"
     ]
    }
   ],
   "source": [
    "# Create a featurizer object that converts a phrase into embedding vector\n",
    "emb_file = os.path.join(\"munge\", \"GoogleNews-vectors-negative300.bin\")\n",
    "featurizer = Featurizer(emb_file)"
   ]
  },
  {
   "cell_type": "code",
   "execution_count": 4,
   "metadata": {},
   "outputs": [],
   "source": [
    "train = pd.read_csv(os.path.join(\"munge\", \"train.csv\"))\n",
    "dev = pd.read_csv(os.path.join(\"munge\", \"dev.csv\"))\n",
    "test = pd.read_csv(os.path.join(\"munge\", \"test.csv\"))"
   ]
  },
  {
   "cell_type": "code",
   "execution_count": 5,
   "metadata": {},
   "outputs": [],
   "source": [
    "landmarks = pd.read_csv(os.path.join(\"munge\", \"landmarks.txt\"), sep=\"\\t\")\n",
    "# Convert embeddings from string to list of floats\n",
    "landmarks['embedding'] = landmarks['embedding'].apply(lambda x : list(map(float, x.split(','))))"
   ]
  },
  {
   "cell_type": "code",
   "execution_count": null,
   "metadata": {},
   "outputs": [],
   "source": []
  },
  {
   "cell_type": "code",
   "execution_count": 6,
   "metadata": {},
   "outputs": [],
   "source": [
    "def get_features(landmarks, emb):\n",
    "    \n",
    "    # Compute answer similarity to all landmarks\n",
    "    qu_land = landmarks.copy()\n",
    "    qu_land['similarity'] = qu_land['embedding'].apply(lambda x : featurizer.cossim_from_emb(emb, np.array(x)))\n",
    "    qu_land['similarity'] = np.round(qu_land['similarity'], 6)\n",
    "    prediction = np.array(qu_land['similarity'])\n",
    "    \n",
    "    return prediction"
   ]
  },
  {
   "cell_type": "code",
   "execution_count": 7,
   "metadata": {},
   "outputs": [],
   "source": [
    "def kernel_matrix(data, landmarks):\n",
    "    \n",
    "    embeddings = data['answer'].apply(featurizer.doc2vec)\n",
    "    features = np.array(list(map(lambda emb: get_features(landmarks, emb), embeddings)))\n",
    "    \n",
    "    return(features)"
   ]
  },
  {
   "cell_type": "code",
   "execution_count": 8,
   "metadata": {},
   "outputs": [],
   "source": [
    "X_train = kernel_matrix(train, landmarks)\n",
    "X_dev = kernel_matrix(dev, landmarks)\n",
    "X_test = kernel_matrix(test, landmarks)\n",
    "\n",
    "X_train[np.isnan(X_train)] = 0\n",
    "X_dev[np.isnan(X_dev)] = 0\n",
    "X_test[np.isnan(X_test)] = 0\n",
    "\n",
    "y_train = np.array(train['label'])\n",
    "y_dev = np.array(dev['label'])\n",
    "y_test = np.array(test['label'])"
   ]
  },
  {
   "cell_type": "code",
   "execution_count": 46,
   "metadata": {},
   "outputs": [],
   "source": [
    "model = LogisticRegression(random_state=0, solver='lbfgs', max_iter=30000, C=100,\n",
    "                           multi_class='multinomial').fit(X_dev, y_dev)"
   ]
  },
  {
   "cell_type": "code",
   "execution_count": 68,
   "metadata": {},
   "outputs": [
    {
     "name": "stdout",
     "output_type": "stream",
     "text": [
      "[0]\tvalidation_0-merror:0.588889\n",
      "[1]\tvalidation_0-merror:0.55\n",
      "[2]\tvalidation_0-merror:0.533333\n",
      "[3]\tvalidation_0-merror:0.527778\n",
      "[4]\tvalidation_0-merror:0.516667\n",
      "[5]\tvalidation_0-merror:0.527778\n",
      "[6]\tvalidation_0-merror:0.516667\n",
      "[7]\tvalidation_0-merror:0.511111\n",
      "[8]\tvalidation_0-merror:0.511111\n",
      "[9]\tvalidation_0-merror:0.488889\n",
      "[10]\tvalidation_0-merror:0.494444\n",
      "[11]\tvalidation_0-merror:0.494444\n",
      "[12]\tvalidation_0-merror:0.5\n",
      "[13]\tvalidation_0-merror:0.488889\n",
      "[14]\tvalidation_0-merror:0.494444\n",
      "[15]\tvalidation_0-merror:0.488889\n",
      "[16]\tvalidation_0-merror:0.494444\n",
      "[17]\tvalidation_0-merror:0.466667\n",
      "[18]\tvalidation_0-merror:0.466667\n",
      "[19]\tvalidation_0-merror:0.483333\n",
      "[20]\tvalidation_0-merror:0.477778\n",
      "[21]\tvalidation_0-merror:0.472222\n",
      "[22]\tvalidation_0-merror:0.472222\n",
      "[23]\tvalidation_0-merror:0.466667\n",
      "[24]\tvalidation_0-merror:0.472222\n",
      "[25]\tvalidation_0-merror:0.472222\n",
      "[26]\tvalidation_0-merror:0.477778\n",
      "[27]\tvalidation_0-merror:0.472222\n",
      "[28]\tvalidation_0-merror:0.466667\n",
      "[29]\tvalidation_0-merror:0.483333\n",
      "[30]\tvalidation_0-merror:0.461111\n",
      "[31]\tvalidation_0-merror:0.472222\n",
      "[32]\tvalidation_0-merror:0.466667\n",
      "[33]\tvalidation_0-merror:0.455556\n",
      "[34]\tvalidation_0-merror:0.466667\n",
      "[35]\tvalidation_0-merror:0.466667\n",
      "[36]\tvalidation_0-merror:0.466667\n",
      "[37]\tvalidation_0-merror:0.466667\n",
      "[38]\tvalidation_0-merror:0.472222\n",
      "[39]\tvalidation_0-merror:0.466667\n",
      "[40]\tvalidation_0-merror:0.472222\n",
      "[41]\tvalidation_0-merror:0.477778\n",
      "[42]\tvalidation_0-merror:0.466667\n",
      "[43]\tvalidation_0-merror:0.472222\n",
      "[44]\tvalidation_0-merror:0.472222\n",
      "[45]\tvalidation_0-merror:0.461111\n",
      "[46]\tvalidation_0-merror:0.472222\n",
      "[47]\tvalidation_0-merror:0.461111\n",
      "[48]\tvalidation_0-merror:0.466667\n",
      "[49]\tvalidation_0-merror:0.466667\n",
      "[50]\tvalidation_0-merror:0.477778\n",
      "[51]\tvalidation_0-merror:0.483333\n",
      "[52]\tvalidation_0-merror:0.483333\n",
      "[53]\tvalidation_0-merror:0.483333\n",
      "[54]\tvalidation_0-merror:0.488889\n",
      "[55]\tvalidation_0-merror:0.477778\n",
      "[56]\tvalidation_0-merror:0.483333\n",
      "[57]\tvalidation_0-merror:0.483333\n",
      "[58]\tvalidation_0-merror:0.477778\n",
      "[59]\tvalidation_0-merror:0.488889\n",
      "[60]\tvalidation_0-merror:0.483333\n",
      "[61]\tvalidation_0-merror:0.488889\n",
      "[62]\tvalidation_0-merror:0.483333\n",
      "[63]\tvalidation_0-merror:0.477778\n",
      "[64]\tvalidation_0-merror:0.483333\n",
      "[65]\tvalidation_0-merror:0.477778\n",
      "[66]\tvalidation_0-merror:0.477778\n",
      "[67]\tvalidation_0-merror:0.477778\n",
      "[68]\tvalidation_0-merror:0.488889\n",
      "[69]\tvalidation_0-merror:0.483333\n",
      "[70]\tvalidation_0-merror:0.477778\n",
      "[71]\tvalidation_0-merror:0.477778\n",
      "[72]\tvalidation_0-merror:0.488889\n",
      "[73]\tvalidation_0-merror:0.5\n",
      "[74]\tvalidation_0-merror:0.483333\n",
      "[75]\tvalidation_0-merror:0.477778\n",
      "[76]\tvalidation_0-merror:0.483333\n",
      "[77]\tvalidation_0-merror:0.488889\n",
      "[78]\tvalidation_0-merror:0.477778\n",
      "[79]\tvalidation_0-merror:0.483333\n",
      "[80]\tvalidation_0-merror:0.488889\n",
      "[81]\tvalidation_0-merror:0.477778\n",
      "[82]\tvalidation_0-merror:0.483333\n",
      "[83]\tvalidation_0-merror:0.483333\n",
      "[84]\tvalidation_0-merror:0.483333\n",
      "[85]\tvalidation_0-merror:0.483333\n",
      "[86]\tvalidation_0-merror:0.472222\n",
      "[87]\tvalidation_0-merror:0.477778\n",
      "[88]\tvalidation_0-merror:0.466667\n",
      "[89]\tvalidation_0-merror:0.461111\n",
      "[90]\tvalidation_0-merror:0.455556\n",
      "[91]\tvalidation_0-merror:0.461111\n",
      "[92]\tvalidation_0-merror:0.461111\n",
      "[93]\tvalidation_0-merror:0.455556\n",
      "[94]\tvalidation_0-merror:0.461111\n",
      "[95]\tvalidation_0-merror:0.461111\n",
      "[96]\tvalidation_0-merror:0.461111\n",
      "[97]\tvalidation_0-merror:0.461111\n",
      "[98]\tvalidation_0-merror:0.461111\n",
      "[99]\tvalidation_0-merror:0.455556\n"
     ]
    },
    {
     "data": {
      "text/plain": [
       "XGBClassifier(base_score=0.5, booster='gbtree', colsample_bylevel=1,\n",
       "       colsample_bynode=1, colsample_bytree=1, gamma=0, learning_rate=0.01,\n",
       "       max_delta_step=0, max_depth=2, min_child_weight=1, missing=None,\n",
       "       n_estimators=100, n_jobs=1, nthread=None,\n",
       "       objective='multi:softprob', random_state=42, reg_alpha=0,\n",
       "       reg_lambda=1, scale_pos_weight=1, seed=None, silent=None,\n",
       "       subsample=0.7, verbosity=1)"
      ]
     },
     "execution_count": 68,
     "metadata": {},
     "output_type": "execute_result"
    }
   ],
   "source": [
    "model = xgb.XGBClassifier(\n",
    "    objective=\"multi:softprob\", random_state=42,\n",
    "    learning_rate=0.01,\n",
    "    subsample=0.7,\n",
    "    max_depth=2)\n",
    "\n",
    "model.fit(X_train, y_train, eval_set=[(X_dev, y_dev)])"
   ]
  },
  {
   "cell_type": "markdown",
   "metadata": {},
   "source": [
    "# Performance Evaluation"
   ]
  },
  {
   "cell_type": "code",
   "execution_count": 69,
   "metadata": {},
   "outputs": [
    {
     "data": {
      "text/plain": [
       "array([1, 0, 0, 0, 0, 3, 3, 0, 0, 1, 0, 0, 0, 1, 3, 0, 0, 3, 2, 0, 1, 0,\n",
       "       0, 0, 0, 0, 0, 1, 3, 0, 0, 0, 0, 0, 0, 0, 1, 0, 0, 0, 1, 0, 0, 0,\n",
       "       1, 3, 0, 0, 3, 0, 1, 0, 3, 0, 0, 0, 0, 0, 0, 0, 0, 0, 3, 3, 0, 1,\n",
       "       0, 0, 0, 0, 0, 1, 0, 0, 0, 1, 1, 1, 0, 0, 1, 0, 0, 0, 0, 0, 1, 1,\n",
       "       0, 0, 0, 0, 1, 3, 3, 0, 3, 0, 1, 0, 0, 0, 0, 0, 3, 0, 3, 1, 0, 0,\n",
       "       3, 3, 1, 0, 1, 0, 0, 0, 0, 0, 0, 0, 0, 0, 0, 0, 0, 3, 1, 3, 0, 0,\n",
       "       0, 0, 0, 0, 3, 0, 3, 0, 0, 0, 0, 0, 0, 3, 0, 0, 0, 0, 0, 0, 0, 0,\n",
       "       2, 0, 3, 1, 3, 0, 1, 0, 0, 0, 0, 3, 0, 0, 3, 0, 2, 3, 1, 0, 0, 0,\n",
       "       1, 0, 3, 1])"
      ]
     },
     "execution_count": 69,
     "metadata": {},
     "output_type": "execute_result"
    }
   ],
   "source": [
    "model.predict(X_dev)"
   ]
  },
  {
   "cell_type": "code",
   "execution_count": 70,
   "metadata": {},
   "outputs": [
    {
     "data": {
      "text/plain": [
       "array([1, 2, 0, 0, 0, 3, 0, 1, 0, 1, 0, 0, 0, 3, 3, 0, 3, 0, 1, 3, 0, 0,\n",
       "       0, 0, 3, 0, 1, 1, 1, 1, 3, 0, 0, 3, 1, 3, 1, 0, 2, 0, 1, 0, 0, 0,\n",
       "       3, 3, 0, 0, 0, 0, 2, 1, 3, 3, 0, 0, 3, 0, 0, 0, 0, 0, 0, 3, 2, 2,\n",
       "       1, 1, 0, 1, 3, 2, 0, 0, 1, 1, 3, 1, 0, 3, 3, 0, 2, 0, 3, 0, 1, 0,\n",
       "       1, 0, 3, 1, 1, 3, 2, 0, 3, 0, 1, 1, 1, 0, 3, 3, 3, 0, 3, 0, 3, 0,\n",
       "       3, 3, 0, 0, 1, 0, 0, 1, 0, 0, 0, 0, 0, 1, 1, 0, 3, 2, 3, 1, 1, 0,\n",
       "       0, 3, 2, 3, 1, 0, 3, 0, 0, 1, 0, 1, 1, 3, 1, 2, 0, 0, 1, 1, 0, 1,\n",
       "       2, 0, 3, 1, 1, 0, 3, 1, 2, 0, 0, 0, 3, 2, 3, 2, 2, 0, 1, 3, 2, 0,\n",
       "       1, 0, 3, 0])"
      ]
     },
     "execution_count": 70,
     "metadata": {},
     "output_type": "execute_result"
    }
   ],
   "source": [
    "labels = np.array(dev['label'])\n",
    "labels"
   ]
  },
  {
   "cell_type": "markdown",
   "metadata": {},
   "source": [
    "## Accuracy"
   ]
  },
  {
   "cell_type": "code",
   "execution_count": 82,
   "metadata": {},
   "outputs": [
    {
     "name": "stdout",
     "output_type": "stream",
     "text": [
      "Performance on training set\n",
      "Accuracy: 0.64\n"
     ]
    }
   ],
   "source": [
    "# Final accuracy\n",
    "y_hat_train = model.predict(X_train)\n",
    "acc = np.round(np.mean(y_train == y_hat_train),2)\n",
    "print(\"Performance on training set\")\n",
    "print('Accuracy: {}'.format(acc))"
   ]
  },
  {
   "cell_type": "code",
   "execution_count": 83,
   "metadata": {},
   "outputs": [
    {
     "name": "stdout",
     "output_type": "stream",
     "text": [
      "Performance on dev set\n",
      "Accuracy: 0.54\n"
     ]
    }
   ],
   "source": [
    "# Final accuracy\n",
    "y_hat_dev = model.predict(X_dev)\n",
    "acc = np.round(np.mean(y_dev == y_hat_dev),2)\n",
    "print(\"Performance on dev set\")\n",
    "print('Accuracy: {}'.format(acc))"
   ]
  },
  {
   "cell_type": "code",
   "execution_count": 84,
   "metadata": {},
   "outputs": [
    {
     "name": "stdout",
     "output_type": "stream",
     "text": [
      "Performance on test set\n",
      "Accuracy: 0.42\n"
     ]
    }
   ],
   "source": [
    "# Final accuracy\n",
    "y_hat_test = model.predict(X_test)\n",
    "acc = np.round(np.mean(y_test == y_hat_test),2)\n",
    "print(\"Performance on test set\")\n",
    "print('Accuracy: {}'.format(acc))"
   ]
  },
  {
   "cell_type": "markdown",
   "metadata": {},
   "source": [
    "## Confusion Matrix"
   ]
  },
  {
   "cell_type": "code",
   "execution_count": 74,
   "metadata": {},
   "outputs": [
    {
     "name": "stdout",
     "output_type": "stream",
     "text": [
      "Confusion matrix, without normalization\n",
      "[[55  7  0 12]\n",
      " [23  8  1  6]\n",
      " [10  2  2  3]\n",
      " [28 11  1 11]]\n"
     ]
    },
    {
     "data": {
      "image/png": "[encoded data removed]",
      "text/plain": [
       "<Figure size 720x720 with 2 Axes>"
      ]
     },
     "metadata": {
      "needs_background": "light"
     },
     "output_type": "display_data"
    }
   ],
   "source": [
    "class_names = list(np.unique(y_test))\n",
    "\n",
    "# Compute confusion matrix\n",
    "cnf_matrix = confusion_matrix(y_test, y_hat_test)\n",
    "np.set_printoptions(precision=2)\n",
    "\n",
    "# Plot non-normalized confusion matrix\n",
    "plt.figure(figsize=(10,10))\n",
    "plot_confusion_matrix(cnf_matrix, classes=class_names,\n",
    "                      title='Confusion matrix, without normalization',\n",
    "                      cmap=plt.cm.Blues)"
   ]
  },
  {
   "cell_type": "markdown",
   "metadata": {},
   "source": [
    "## Classification Report"
   ]
  },
  {
   "cell_type": "code",
   "execution_count": 76,
   "metadata": {},
   "outputs": [
    {
     "name": "stdout",
     "output_type": "stream",
     "text": [
      "              precision    recall  f1-score   support\n",
      "\n",
      "           0       0.47      0.74      0.58        74\n",
      "           1       0.29      0.21      0.24        38\n",
      "           2       0.50      0.12      0.19        17\n",
      "           3       0.34      0.22      0.27        51\n",
      "\n",
      "   micro avg       0.42      0.42      0.42       180\n",
      "   macro avg       0.40      0.32      0.32       180\n",
      "weighted avg       0.40      0.42      0.38       180\n",
      "\n"
     ]
    }
   ],
   "source": [
    "# Compute classification report\n",
    "clf_report = classification_report(y_test, y_hat_test)\n",
    "print(clf_report)"
   ]
  },
  {
   "cell_type": "markdown",
   "metadata": {},
   "source": [
    "# Error Analysis"
   ]
  },
  {
   "cell_type": "code",
   "execution_count": 123,
   "metadata": {
    "scrolled": false
   },
   "outputs": [
    {
     "data": {
      "text/html": [
       "<div>\n",
       "<style scoped>\n",
       "    .dataframe tbody tr th:only-of-type {\n",
       "        vertical-align: middle;\n",
       "    }\n",
       "\n",
       "    .dataframe tbody tr th {\n",
       "        vertical-align: top;\n",
       "    }\n",
       "\n",
       "    .dataframe thead th {\n",
       "        text-align: right;\n",
       "    }\n",
       "</style>\n",
       "<table border=\"1\" class=\"dataframe\">\n",
       "  <thead>\n",
       "    <tr style=\"text-align: right;\">\n",
       "      <th></th>\n",
       "      <th>instance_id</th>\n",
       "      <th>student_id</th>\n",
       "      <th>task_id</th>\n",
       "      <th>problem_description</th>\n",
       "      <th>question</th>\n",
       "      <th>answer</th>\n",
       "      <th>reference_answers</th>\n",
       "      <th>label</th>\n",
       "      <th>pd_hash</th>\n",
       "      <th>qu_hash</th>\n",
       "      <th>embedding</th>\n",
       "      <th>pred</th>\n",
       "    </tr>\n",
       "  </thead>\n",
       "  <tbody>\n",
       "    <tr>\n",
       "      <th>14</th>\n",
       "      <td>495</td>\n",
       "      <td>DTSU021</td>\n",
       "      <td>Demo_LP01_PR01</td>\n",
       "      <td>A mover pushes a box so that it slides across a carpeted floor in a straight line at a constant speed. The push is horizontal.</td>\n",
       "      <td>Can you articulate the definition or principle that helps us determine the forces?</td>\n",
       "      <td>newtons 3rd law</td>\n",
       "      <td>1:  An object at rest will stay at rest and an object moving with constant velocity in a straight line will continue moving with constant velocity in a straight line as long as the net force acting on the object is zero. 2:  When the object is in equilibrium or velocity is constant, the sum of all forces will equal 0 3:  If the acceleration of a system is zero, the summation of the forces is also zero</td>\n",
       "      <td>3</td>\n",
       "      <td>b595153926</td>\n",
       "      <td>89f68d499a</td>\n",
       "      <td>[0.07877604166666667, -0.054361979166666664, 0.15218098958333334, 0.08170572916666667, -0.14241536458333334, -0.07171630859375, -0.10123697916666667, -0.029500325520833332, 0.080810546875, 0.1151123046875, -0.06754557291666667, -0.08939615885416667, -0.13321940104166666, 0.09895833333333333, -0.16451009114583334, 0.10481770833333333, -0.038411458333333336, 0.0888671875, -0.16471354166666666, -0.15169270833333334, -0.034261067708333336, -0.07320149739583333, 0.05126953125, 0.0035502115885416665, 0.01123046875, -0.21451822916666666, -0.04476165771484375, 0.12858072916666666, -0.07975260416666667, 0.09407552083333333, -0.1328125, -0.22623697916666666, 0.13755289713541666, 0.0096435546875, -0.004496256510416667, -0.0731201171875, 0.005289713541666667, 0.2906901041666667, -0.10068766276041667, 0.11783854166666667, 0.06998697916666667, -0.04052734375, 0.10693359375, 0.09912109375, -0.00016276041666666666, 0.09326171875, 0.01568603515625, 0.017333984375, 0.014892578125, -0.002115885416666...</td>\n",
       "      <td>3</td>\n",
       "    </tr>\n",
       "    <tr>\n",
       "      <th>16</th>\n",
       "      <td>456</td>\n",
       "      <td>DTSU039</td>\n",
       "      <td>FM_LV04_PR05.sh</td>\n",
       "      <td>Two hockey players pass a puck between them on an ice rink. Assume that the ice is very smooth so that there is no friction.</td>\n",
       "      <td>What can you say about the net horizontal force on the puck while moving on the ice between the players?</td>\n",
       "      <td>it is balanced</td>\n",
       "      <td>1:  Since there are no forces acting on the puck in the horizontal direction, the net horizontal force is zero. 2:  The net horizontal force is zero.</td>\n",
       "      <td>3</td>\n",
       "      <td>35db126042</td>\n",
       "      <td>a5c3be16a4</td>\n",
       "      <td>[0.000885009765625, 0.0050907135009765625, 0.028157552083333332, 0.08028157552083333, -0.1220703125, -0.010416666666666666, 0.118896484375, -0.059590657552083336, 0.06591796875, -0.013468424479166666, -0.08463541666666667, -0.10392252604166667, 0.015523274739583334, 0.020182291666666668, 0.027669270833333332, 0.0899658203125, 0.012064615885416666, 0.06331380208333333, 0.009073893229166666, -0.046712239583333336, 0.023356119791666668, 0.20621744791666666, 0.053304036458333336, 0.0194091796875, 0.07918294270833333, 0.033528645833333336, -0.11214192708333333, 0.102783203125, 0.060282389322916664, 0.061604817708333336, -0.025227864583333332, 0.033854166666666664, -0.02978515625, 0.02880859375, 0.13020833333333334, 0.017985026041666668, -0.06504313151041667, 0.048065185546875, 0.10123697916666667, 0.0908203125, 0.10872395833333333, -0.01904296875, 0.018513997395833332, 0.026936848958333332, 8.138020833333333e-05, 0.10756429036458333, 0.015706380208333332, 0.06522623697916667, 0.07727050...</td>\n",
       "      <td>3</td>\n",
       "    </tr>\n",
       "    <tr>\n",
       "      <th>35</th>\n",
       "      <td>197</td>\n",
       "      <td>DTSU014</td>\n",
       "      <td>Demo_LP01_PR01.sh</td>\n",
       "      <td>A mover pushes a box so that it slides across a carpeted floor in a straight line at a constant speed. The push is horizontal.</td>\n",
       "      <td>What forces are acting on the box? Which forces balance each other?</td>\n",
       "      <td>The forces acting upon the box in the y direction are normal force and gravity. These two forces balance each other therefore the box does not move up or down. The forces acting upon the box in the x direction are the horizontal push from the person and friction from the carpet. These two forces do not balance each other out since the box is moving. the push force exerted by the person must be more than the frictional force in order for the box to move.</td>\n",
       "      <td>1:  The forces are the force of the mover pushing on the box, the force of friction from the floor on the box, the gravitational force from the earth on the box, and the normal force from the floor on the box. The force of friction balances the force of the mover pushing. 2:  The forces are the force of the mover pushing on the box, the force of friction from the floor on the box, the gravitational force from the earth on the box, and the normal force from the floor on the box. Friction balances the push. 3:  The forces are the force of the mover pushing on the box, the force of friction from the floor on the box, the gravitational force from the earth on the box, and the normal force from the floor on the box. The force of the mover pushing and the force of friction balance each other. 4:  The forces are the force of the mover pushing on the box, the force of friction from the floor on the box, the gravitational force from the earth on the box, and the normal force from the floor ...</td>\n",
       "      <td>3</td>\n",
       "      <td>b595153926</td>\n",
       "      <td>35b53f9861</td>\n",
       "      <td>[0.023651849655877976, 0.030930496397472564, 0.026780809674944197, 0.050335112072172616, -0.07362947009858631, -0.03148832775297619, 0.004403432210286458, -0.08329663957868304, 0.04264195760091146, 0.043948309762137275, -0.06539608183361235, -0.07837713332403273, -0.015864054361979168, 0.04398327782040551, -0.09668997355869838, 0.030760992140997024, -0.005436806451706659, 0.049985249837239586, -0.0008759271530877976, -0.056865692138671875, -0.010971432640438988, -0.0038516180855887277, -0.05594598679315476, -0.0009793781098865327, 0.04058074951171875, -0.015699840727306548, -0.06039337884812128, 0.05813653128487723, 0.00013896397181919644, 0.017425537109375, -0.024298440842401414, -0.044460478283110116, -0.026858375186011904, 0.0060594649541945685, -0.029844284057617188, -0.015601112729027158, -0.004179273332868304, 0.016842433384486606, 0.028002421061197918, 0.042811984107607885, 0.08706301734561012, -0.04508263724190848, 0.08203706287202381, -0.0516143072219122, -0.00377625510806...</td>\n",
       "      <td>3</td>\n",
       "    </tr>\n",
       "    <tr>\n",
       "      <th>52</th>\n",
       "      <td>441</td>\n",
       "      <td>DTSU031</td>\n",
       "      <td>FM_LV03_PR07.sh</td>\n",
       "      <td>A mover pushes a desk with a horizontal force such that the desk moves with constant velocity v0 across a carpeted floor. Suddenly, the mover doubles his force.</td>\n",
       "      <td>What can you say about the total or net force on the desk when the mover doubles his force?</td>\n",
       "      <td>zero</td>\n",
       "      <td>1:  The mover's push, when doubled, is larger than the opposing force of friction resulting in a non-zero force.</td>\n",
       "      <td>3</td>\n",
       "      <td>d0331a86c9</td>\n",
       "      <td>46e9645699</td>\n",
       "      <td>[0.0673828125, -0.12451171875, 0.1796875, 0.298828125, -0.189453125, 0.275390625, 0.16015625, -0.06103515625, 0.3671875, 0.0255126953125, -0.01092529296875, -0.07177734375, 0.00567626953125, 0.0322265625, -0.09814453125, -0.0106201171875, 0.1435546875, 0.0106201171875, -0.0859375, 0.1943359375, -0.1962890625, 0.10205078125, -0.1259765625, -0.265625, 0.1416015625, -0.15234375, -0.1005859375, 0.16796875, 0.267578125, -0.11962890625, -0.302734375, -0.357421875, 0.0238037109375, -0.10302734375, -0.26953125, -0.0927734375, 0.004058837890625, 0.043701171875, 0.28515625, -0.03466796875, 0.2236328125, -0.0302734375, 0.055419921875, 0.042724609375, -0.28515625, -0.06396484375, 0.1181640625, -0.0086669921875, 0.1865234375, 0.111328125, 0.1728515625, -0.083984375, 0.058349609375, 0.11474609375, -0.058837890625, -0.318359375, -0.244140625, -0.16015625, -0.0223388671875, 0.04345703125, 0.103515625, 0.142578125, 0.0218505859375, -0.09033203125, 0.33984375, -0.0230712890625, 0.181640625, 0.175781...</td>\n",
       "      <td>3</td>\n",
       "    </tr>\n",
       "    <tr>\n",
       "      <th>79</th>\n",
       "      <td>880</td>\n",
       "      <td>DTSU008</td>\n",
       "      <td>FM_LV04_PR05</td>\n",
       "      <td>Two hockey players pass a puck between them on an ice rink. Assume that the ice is very smooth so that there is no friction.</td>\n",
       "      <td>What can you say about the net horizontal force on the puck while moving on the ice between the players?</td>\n",
       "      <td>the horizontal forces balance out</td>\n",
       "      <td>1:  Since there are no forces acting on the puck in the horizontal direction, the net horizontal force is zero. 2:  The net horizontal force is zero.</td>\n",
       "      <td>3</td>\n",
       "      <td>35db126042</td>\n",
       "      <td>a5c3be16a4</td>\n",
       "      <td>[0.01455078125, -0.0048828125, 0.00040283203125, 0.0380859375, -0.1009765625, -0.07431640625, -0.0320068359375, -0.135107421875, 0.00498046875, 0.0251708984375, -0.0890380859375, -0.113525390625, -0.01461181640625, 0.0909423828125, -0.1065673828125, 0.022412109375, -0.02960205078125, -0.02119140625, 0.0474853515625, -0.15059814453125, 0.04267578125, 0.06220703125, -0.1033935546875, 0.01257781982421875, 0.00062255859375, 0.041162109375, -0.1381103515625, 0.007666015625, 0.1145233154296875, -0.04736328125, 0.027392578125, 0.03736572265625, 0.1348663330078125, 0.070489501953125, -0.091455078125, 0.03189697265625, 0.00712890625, 0.05947265625, 0.110211181640625, 0.080078125, 0.05888671875, -0.0714111328125, 0.12041015625, -0.0693603515625, -0.03704833984375, -0.0157440185546875, -0.033154296875, -0.04830780029296875, 0.105078125, -0.03151435852050781, -0.001141357421875, 0.01102294921875, -0.02477569580078125, 0.001953125, -0.0484375, 0.042718505859375, -0.0757080078125, -0.04716796875...</td>\n",
       "      <td>3</td>\n",
       "    </tr>\n",
       "    <tr>\n",
       "      <th>84</th>\n",
       "      <td>289</td>\n",
       "      <td>DTSU041</td>\n",
       "      <td>FM_LV03_PR07.sh</td>\n",
       "      <td>A mover pushes a desk with a horizontal force such that the desk moves with constant velocity v0 across a carpeted floor. Suddenly, the mover doubles his force.</td>\n",
       "      <td>Because the net force on the desk was zero before the mover doubled his force, what can you say about the relative magnitude of the mover's push and the opposing force of friction acting on the desk?</td>\n",
       "      <td>MAGNITUDE OF PUSH INCREASES</td>\n",
       "      <td>1:  Because the net force on the desk is zero, the mover's push balances the opposing force of friction. 2:  Because the net force on the desk is zero, the force of push on the desk by the mover has the same magnitude but opposite direction to the force friction. 3:  Because the net force on the desk is zero, the mover's push is equal and opposite to the force of friction acting on the desk. 4:  The mover's push equals the opposing force of friction. 5:  Mover's push equals friction.</td>\n",
       "      <td>3</td>\n",
       "      <td>d0331a86c9</td>\n",
       "      <td>439b223413</td>\n",
       "      <td>[-0.043172200520833336, 0.07169596354166667, -0.057291666666666664, 0.1337890625, 0.01220703125, -0.13639322916666666, -0.017740885416666668, -0.169677734375, 0.1611785888671875, 0.15885416666666666, -0.12931315104166666, -0.08723958333333333, 0.048329671223958336, -0.0007781982421875, 0.017537434895833332, 0.05615234375, 0.014607747395833334, 0.035970052083333336, 0.09488932291666667, -0.1085205078125, -0.10319010416666667, 0.021977742513020832, 0.0391845703125, -0.01422119140625, 0.07356770833333333, -0.06766764322916667, -0.015322367350260416, 0.03875732421875, -0.17431640625, 0.041829427083333336, -0.080078125, -0.08235677083333333, -0.12239583333333333, -0.23795572916666666, -0.05029296875, -0.14265950520833334, 0.027180989583333332, 0.10005696614583333, 0.09256998697916667, 0.219970703125, 0.09025065104166667, 0.16935221354166666, 0.15087890625, -0.0063629150390625, -0.18558756510416666, -0.14632161458333334, -0.056315104166666664, -0.037434895833333336, -0.055501302083333336...</td>\n",
       "      <td>3</td>\n",
       "    </tr>\n",
       "    <tr>\n",
       "      <th>93</th>\n",
       "      <td>522</td>\n",
       "      <td>DTSU031</td>\n",
       "      <td>FM_LV04_PR10.FCI-16.sh</td>\n",
       "      <td>To rescue a child who has fallen down a well, rescue workers fasten him to a rope, the other end of which is then reeled in by a machine. The rope pulls the child straight upward at steady speed.</td>\n",
       "      <td>Can you articulate Newton's first law?</td>\n",
       "      <td>i dont know</td>\n",
       "      <td>1:  An object at rest will stay at rest and at object moving with constant velocity in a straight line will continue moving with constant velocity in a straight line as long as the net force acting on the object is zero. 2:  If all the forces acting on an object add up to zero (accounting for the direction of the forces and not just their magnitude) then the acceleration of that object also has to be zero. It can move at a constant speed but it cannot be accelerating. 3:  When the object is in equilibrium or velocity is constant, the sum of all forces will equal 0.</td>\n",
       "      <td>3</td>\n",
       "      <td>5059c9cfbb</td>\n",
       "      <td>27570f5d10</td>\n",
       "      <td>[-0.058512369791666664, -0.056559244791666664, 0.08089192708333333, 0.18050130208333334, -0.10335286458333333, 0.0927734375, 0.046834309895833336, -0.11368815104166667, 0.08561197916666667, -0.030680338541666668, -0.08589680989583333, -0.232421875, -0.20817057291666666, -0.0494384765625, -0.061279296875, 0.14599609375, 0.037027994791666664, 0.22672526041666666, -0.037109375, -0.08341471354166667, -0.17838541666666666, -0.004557291666666667, 0.2734375, -0.023030598958333332, 0.036376953125, 0.08894856770833333, -0.19571940104166666, -0.06901041666666667, -0.040364583333333336, -0.16796875, 0.010701497395833334, 0.13899739583333334, -0.09210205078125, -0.049479166666666664, -0.11122385660807292, 0.11710611979166667, -0.10367838541666667, 0.13487752278645834, -0.019368489583333332, 0.112548828125, 0.021270751953125, -0.10587565104166667, 0.2936197916666667, 0.025716145833333332, 0.010172526041666666, -0.024983723958333332, 0.0869140625, -0.15657552083333334, -0.058349609375, -0.132486...</td>\n",
       "      <td>3</td>\n",
       "    </tr>\n",
       "    <tr>\n",
       "      <th>104</th>\n",
       "      <td>48</td>\n",
       "      <td>DTSU021</td>\n",
       "      <td>FM_LVxx_PR01</td>\n",
       "      <td>A rocket pushes a meteor with constant force. Assume that the meteor is initially at rest and is far enough away from the sun and the planets to neglect gravity.</td>\n",
       "      <td>Can you articulate Newton's second law?</td>\n",
       "      <td>no</td>\n",
       "      <td>1:  Newton's 2nd Law says that the net force is equal to the product of the mass and the acceleration. 2:  An object on which a net force is being applied will move with a constant acceleration that is inversely proportional to the object's mass and that has the same direction as the force. 3:  The net force equals mass times acceleration. 4:  Newton's second law says that net force equals mass times acceleration. 5:  The sum of the forces equals mass times acceleration. 6:  The sum of all the forces acting on an object, divided by its mass is equivalent to the acceleration of that object</td>\n",
       "      <td>3</td>\n",
       "      <td>b78a60db07</td>\n",
       "      <td>acdf3150fe</td>\n",
       "      <td>[0.08251953125, -0.1513671875, 0.06591796875, 0.02001953125, -0.0267333984375, 0.0439453125, 0.17578125, -0.1767578125, 0.244140625, 0.1611328125, -0.05126953125, -0.1142578125, -0.1669921875, 0.2314453125, -0.140625, 0.0023651123046875, 0.31640625, -0.0908203125, -0.06298828125, 0.031494140625, -0.220703125, -0.0498046875, -0.205078125, -0.1044921875, -0.0286865234375, -0.07275390625, -0.177734375, 0.10009765625, -0.010498046875, 0.1220703125, 0.00225830078125, -0.0274658203125, -0.0771484375, -0.1142578125, -0.146484375, 0.034912109375, 0.240234375, 0.13671875, 0.10986328125, 0.040283203125, 0.1015625, 0.050048828125, 0.2412109375, -0.203125, 0.1650390625, -0.10986328125, 0.109375, 0.1748046875, -0.0263671875, -0.11865234375, 0.0245361328125, 0.09228515625, -0.0859375, -0.0230712890625, -0.00017833709716796875, -0.1513671875, -0.05078125, -0.333984375, 0.017333984375, -0.302734375, -0.05615234375, 0.26171875, 0.2158203125, -0.09375, -0.255859375, -0.0966796875, 0.08251953125, 0.1...</td>\n",
       "      <td>3</td>\n",
       "    </tr>\n",
       "    <tr>\n",
       "      <th>106</th>\n",
       "      <td>49</td>\n",
       "      <td>DTSU032</td>\n",
       "      <td>FM_LV03_PR07</td>\n",
       "      <td>A mover pushes a desk with a horizontal force such that the desk moves with constant velocity v0 across a carpeted floor. Suddenly, the mover doubles his force.</td>\n",
       "      <td>What can you say about the total or net force on the desk when the mover doubles his force?</td>\n",
       "      <td>THE NET FORCE IS DOUBLED</td>\n",
       "      <td>1:  The mover's push, when doubled, is larger than the opposing force of friction resulting in a non-zero force.</td>\n",
       "      <td>3</td>\n",
       "      <td>d0331a86c9</td>\n",
       "      <td>46e9645699</td>\n",
       "      <td>[-0.001910400390625, 0.050262451171875, 0.042578125, 0.0285888671875, -0.07783203125, -0.164453125, 0.07314453125, -0.1138671875, 0.14912109375, 0.017236328125, -0.0295654296875, -0.07177734375, 0.0970947265625, 0.0638336181640625, 0.018408203125, -0.02470703125, 0.009814453125, 0.035888671875, -0.0281982421875, -0.0308837890625, -0.02763671875, 0.00107421875, 0.002490234375, -0.02001495361328125, 0.107562255859375, -0.02373046875, -0.074609375, 0.028920364379882813, -0.0939971923828125, 0.071875, -0.036474609375, -0.0510498046875, -0.050537109375, 0.057843017578125, 0.0305908203125, -0.03743896484375, -0.1375, 0.01708984375, 0.099462890625, 0.1299224853515625, 0.087841796875, -0.107861328125, 0.0174560546875, 0.0287353515625, -0.0227294921875, -0.0743988037109375, -0.01240234375, 0.0297119140625, 0.156494140625, -0.02744140625, 0.007861328125, 0.00032958984375, 0.07972412109375, -0.022674703598022462, -0.0025390625, 0.0304290771484375, 0.0216552734375, 0.061041259765625, -0.111633...</td>\n",
       "      <td>3</td>\n",
       "    </tr>\n",
       "    <tr>\n",
       "      <th>110</th>\n",
       "      <td>693</td>\n",
       "      <td>DTSU029</td>\n",
       "      <td>FF_LV02_PR02</td>\n",
       "      <td>A basketball player is dribbling a basketball (continuously bouncing the ball off the ground).</td>\n",
       "      <td>Because it is a vector, acceleration provides what two types of information?</td>\n",
       "      <td>Speed and direction of the ball.</td>\n",
       "      <td>1:  Acceleration has both magnitude and direction. 2:  Acceleration tells you both magnitude and direction.</td>\n",
       "      <td>3</td>\n",
       "      <td>a5b241c8bc</td>\n",
       "      <td>fbd52ac46e</td>\n",
       "      <td>[0.045684814453125, 0.067535400390625, 0.089599609375, -0.06597900390625, -0.032806396484375, -0.1687469482421875, 0.04201507568359375, -0.14886474609375, 0.013946533203125, 0.079925537109375, 0.034637451171875, -0.05706787109375, 0.0730438232421875, 0.0, -0.04738616943359375, -0.023345947265625, -0.0313873291015625, 0.14019775390625, 0.0820159912109375, -0.233978271484375, 0.06396484375, 0.13623046875, 0.100341796875, 0.11487388610839844, 0.082763671875, -0.06036376953125, -0.06207275390625, 0.11669921875, 0.06719589233398438, 0.01416015625, -0.07222747802734375, 0.007476806640625, 0.00885009765625, -0.08620452880859375, -0.02655029296875, -0.0032501220703125, -0.02288818359375, -0.0813446044921875, -0.001842498779296875, 0.1038818359375, 0.06939697265625, -0.009246826171875, 0.1645355224609375, -0.11100006103515625, -0.1128997802734375, -0.013484954833984375, 0.095489501953125, -0.0181884765625, 0.09930419921875, 0.0762939453125, 0.00457763671875, 0.1413421630859375, 0.0263519287...</td>\n",
       "      <td>3</td>\n",
       "    </tr>\n",
       "    <tr>\n",
       "      <th>135</th>\n",
       "      <td>896</td>\n",
       "      <td>DTSU029</td>\n",
       "      <td>FM_LV03_PR07</td>\n",
       "      <td>A mover pushes a desk with a horizontal force such that the desk moves with constant velocity v0 across a carpeted floor. Suddenly, the mover doubles his force.</td>\n",
       "      <td>What can you say about the speed of the desk?</td>\n",
       "      <td>The speed of the desk will double because the force has doubled.</td>\n",
       "      <td>1:  The desk moves with increasing velocity. 2:  The desk will move with constant acceleration and the speed will increase. 3:  The desk increases its speed as the net force is non-zero. 4:  The desk increases its speed as the net force is not zero anymore.</td>\n",
       "      <td>3</td>\n",
       "      <td>d0331a86c9</td>\n",
       "      <td>64a1152f6d</td>\n",
       "      <td>[0.017411665482954544, 0.07277332652698863, 0.033777410333806816, 0.04163707386363636, -0.06197842684659091, -0.11416348544034091, 0.061201615767045456, -0.08322975852272728, 0.11050692471590909, 0.09367231889204546, 0.00866976651278409, -0.06682794744318182, 0.05831631747159091, -0.03885581276633523, 0.006719415838068182, -0.00019420276988636363, 0.02422540838068182, 0.0003773082386363636, 0.011863014914772728, -0.07295920632102272, -0.020285866477272728, -0.010048606178977272, 0.01953125, -0.006319219415838068, 0.050734086470170456, -0.04969371448863636, -0.03972278941761364, 0.06190716136585583, -0.011134754527698864, 0.05069247159090909, -0.002962979403409091, -0.0015147816051136363, -0.06784889914772728, 0.03980324485085227, 0.012617631392045454, -0.06987415660511363, -0.054243607954545456, -0.014637340198863636, 0.07762562144886363, 0.056802923029119316, 0.07179953835227272, -0.07257634943181818, 0.024458451704545456, -0.02943385731090199, -0.02819269353693182, -0.03862831809...</td>\n",
       "      <td>3</td>\n",
       "    </tr>\n",
       "    <tr>\n",
       "      <th>138</th>\n",
       "      <td>725</td>\n",
       "      <td>DTSU028</td>\n",
       "      <td>FF_LV02_PR02.sh</td>\n",
       "      <td>A basketball player is dribbling a basketball (continuously bouncing the ball off the ground).</td>\n",
       "      <td>Because it is a vector, acceleration provides what two types of information?</td>\n",
       "      <td>distance and speed</td>\n",
       "      <td>1:  Acceleration has both magnitude and direction. 2:  Acceleration tells you both magnitude and direction.</td>\n",
       "      <td>3</td>\n",
       "      <td>a5b241c8bc</td>\n",
       "      <td>fbd52ac46e</td>\n",
       "      <td>[-0.025390625, 0.2978515625, 0.14345550537109375, -0.0533447265625, 0.013519287109375, -0.087738037109375, -0.01226806640625, 0.0467529296875, 0.0377197265625, 0.154296875, 0.2705078125, -0.0804443359375, -0.1201171875, 0.02685546875, 0.1009521484375, 0.0364990234375, 0.01513671875, 0.0364227294921875, 0.093017578125, -0.341796875, -0.0362548828125, -0.0142822265625, -0.1043701171875, 0.18768310546875, -0.0205078125, -0.2412109375, -0.16650390625, 0.134765625, 0.0677337646484375, -0.05810546875, 0.0948486328125, -0.0294189453125, 0.007080078125, -0.171875, -0.1357421875, -0.15966796875, -0.154296875, -0.07373046875, -0.05876922607421875, 0.140380859375, 0.0634765625, 0.13427734375, 0.181640625, -0.0534210205078125, -0.25732421875, -0.04034423828125, 0.12841796875, -0.03942680358886719, 0.078857421875, 0.0870361328125, 0.013427734375, 0.0556640625, -0.1221923828125, -0.07073974609375, -0.031982421875, 0.2900390625, 0.06512451171875, 0.10546875, -0.146484375, -0.0707244873046875, 0.0...</td>\n",
       "      <td>3</td>\n",
       "    </tr>\n",
       "    <tr>\n",
       "      <th>145</th>\n",
       "      <td>270</td>\n",
       "      <td>DTSU041</td>\n",
       "      <td>FM_LVxx_PR01.sh</td>\n",
       "      <td>A rocket pushes a meteor with constant force. Assume that the meteor is initially at rest and is far enough away from the sun and the planets to neglect gravity.</td>\n",
       "      <td>Given that the meteor starts at rest and then has a constant acceleration, what else can you say about the meteor's motion?</td>\n",
       "      <td>IT MOVES IN A STRAIT LINE</td>\n",
       "      <td>1:  The meteor will move with increasing velocity. 2:  The meteor moves with constant acceleration and its velocity will keep increasing in the direction of the force as long as the rocket pushes. 3:  Because the meteor's acceleration is constant while the rocket pushes, the meteor will move with increasing velocity. 4:  The meteor will speed up. 5:  The meteor's speed will increase. 6:  The meteor will move faster and faster.</td>\n",
       "      <td>3</td>\n",
       "      <td>b78a60db07</td>\n",
       "      <td>a40ba67403</td>\n",
       "      <td>[0.0197265625, 0.09013938903808594, -0.04627685546875, 0.0230224609375, 0.005859375, -0.054638671875, -0.102490234375, -0.08369140625, 0.11285400390625, 0.135888671875, -0.06121826171875, -0.08211822509765625, -0.0223388671875, -0.09814453125, -0.158740234375, -0.099072265625, 0.009814453125, 0.035498046875, 0.0868408203125, -0.097216796875, 0.125341796875, 0.0943359375, -0.00263671875, -0.05789794921875, 0.15396728515625, 0.0069580078125, -0.0724090576171875, 0.02138671875, 0.02344970703125, 0.055615234375, -0.05611572265625, -0.00703125, -0.0302978515625, -0.0396728515625, 0.03992767333984375, 0.033984375, -0.03341064453125, 0.080426025390625, 0.0948486328125, 0.0146484375, -0.0799072265625, -0.032470703125, 0.027783203125, -0.09315185546875, -0.0537841796875, 0.05458984375, -0.0166748046875, -0.0093505859375, 0.0061279296875, -0.011663818359375, 0.063525390625, 0.088861083984375, 0.0718994140625, -0.000146484375, 0.0470703125, 0.03353118896484375, -0.0157806396484375, -0.0843505...</td>\n",
       "      <td>3</td>\n",
       "    </tr>\n",
       "    <tr>\n",
       "      <th>160</th>\n",
       "      <td>797</td>\n",
       "      <td>DTSU013</td>\n",
       "      <td>FF_LV02_PR02</td>\n",
       "      <td>A basketball player is dribbling a basketball (continuously bouncing the ball off the ground).</td>\n",
       "      <td>What does Newton's second law tell you about the direction of the ball's acceleration?</td>\n",
       "      <td>It tells you whether the object is going up or down.</td>\n",
       "      <td>1:  Since gravity is the only force acting on the ball, the net force on the ball is downward, so the ball's acceleration must also be downward. 2:  The ball's acceleration is downward. 3:  The direction of the ball's acceleration is the same with that of the force. 4:  The direction of the ball's acceleration is the same as the downward direction of the force.</td>\n",
       "      <td>3</td>\n",
       "      <td>a5b241c8bc</td>\n",
       "      <td>c28056af70</td>\n",
       "      <td>[0.10529396750710228, -0.0042712471701882105, 0.11900745738636363, 0.11375843394886363, -0.144287109375, 0.03616610440340909, 0.10049715909090909, -0.05759499289772727, 0.09785600142045454, 0.061004638671875, -0.08233920010653409, -0.11378340287642046, -0.002557927911931818, -0.05562522194602273, -0.09636896306818182, 0.042280717329545456, 0.002102938565340909, 0.062311345880681816, 0.007434844970703125, -0.11422452059659091, -0.04503284801136364, 0.03884055397727273, 0.036299272017045456, -0.019024242054332386, 0.07106711647727272, 0.012684215198863636, -0.055429632013494316, 0.03438221324573864, 0.030373313210227272, 0.007240988991477273, 0.01606958562677557, -0.006600119850852273, -0.056196732954545456, -0.062108820134943184, -0.03506747159090909, 0.005304509943181818, -0.03191028941761364, 0.015666614879261364, -0.012139753861860796, 0.07780317826704546, 0.057220458984375, -0.13072620738636365, 0.1610995205965909, -0.07982011274857954, -0.034444635564630684, 0.01293529163707386...</td>\n",
       "      <td>3</td>\n",
       "    </tr>\n",
       "    <tr>\n",
       "      <th>173</th>\n",
       "      <td>794</td>\n",
       "      <td>DTSU002</td>\n",
       "      <td>Demo_LP01_PR01.sh</td>\n",
       "      <td>A mover pushes a box so that it slides across a carpeted floor in a straight line at a constant speed. The push is horizontal.</td>\n",
       "      <td>Can you articulate the definition or principle that helps us determine the forces?</td>\n",
       "      <td>For ever reaction there is an equal reaction.</td>\n",
       "      <td>1:  An object at rest will stay at rest and an object moving with constant velocity in a straight line will continue moving with constant velocity in a straight line as long as the net force acting on the object is zero. 2:  When the object is in equilibrium or velocity is constant, the sum of all forces will equal 0. 3:  If the acceleration of a system is zero, the summation of the forces is also zero.</td>\n",
       "      <td>3</td>\n",
       "      <td>b595153926</td>\n",
       "      <td>89f68d499a</td>\n",
       "      <td>[0.010913848876953125, -0.0525054931640625, 0.0784912109375, 0.05290985107421875, -0.1731719970703125, 0.0104522705078125, 0.025897979736328125, -0.127593994140625, 0.16623497009277344, 0.1420745849609375, -0.0828094482421875, -0.173431396484375, 0.02410888671875, -0.013214111328125, -0.0422821044921875, 0.15797805786132812, 0.0280303955078125, 0.0503387451171875, 0.020263671875, -0.07440376281738281, -0.033397674560546875, 0.08874893188476562, 0.014068603515625, -0.0278778076171875, -0.05432891845703125, -0.01153564453125, -0.141143798828125, 0.128692626953125, 0.08849334716796875, 0.122802734375, -0.037570953369140625, -0.030193328857421875, -0.0902099609375, -0.02032470703125, 0.01806640625, 0.0575103759765625, 0.02661895751953125, 0.0538177490234375, 0.00872802734375, 0.0636138916015625, 0.0908203125, -0.06103324890136719, 0.0717926025390625, -0.00189208984375, -0.08392333984375, -0.02588653564453125, -0.04293060302734375, 0.054412841796875, -0.04703521728515625, -0.01708984375...</td>\n",
       "      <td>3</td>\n",
       "    </tr>\n",
       "  </tbody>\n",
       "</table>\n",
       "</div>"
      ],
      "text/plain": [
       "     instance_id student_id                 task_id                                                                                                                                                                                  problem_description                                                                                                                                                                                                 question                                                                                                                                                                                                                                                                                                                                                                                                                                                                     answer  \\\n",
       "14           495    DTSU021          Demo_LP01_PR01                                                                       A mover pushes a box so that it slides across a carpeted floor in a straight line at a constant speed. The push is horizontal.                                                                                                                       Can you articulate the definition or principle that helps us determine the forces?                                                                                                                                                                                                                                                                                                                                                                                                                                                            newtons 3rd law   \n",
       "16           456    DTSU039         FM_LV04_PR05.sh                                                                         Two hockey players pass a puck between them on an ice rink. Assume that the ice is very smooth so that there is no friction.                                                                                                 What can you say about the net horizontal force on the puck while moving on the ice between the players?                                                                                                                                                                                                                                                                                                                                                                                                                                                             it is balanced   \n",
       "35           197    DTSU014       Demo_LP01_PR01.sh                                                                       A mover pushes a box so that it slides across a carpeted floor in a straight line at a constant speed. The push is horizontal.                                                                                                                                      What forces are acting on the box? Which forces balance each other?  The forces acting upon the box in the y direction are normal force and gravity. These two forces balance each other therefore the box does not move up or down. The forces acting upon the box in the x direction are the horizontal push from the person and friction from the carpet. These two forces do not balance each other out since the box is moving. the push force exerted by the person must be more than the frictional force in order for the box to move.   \n",
       "52           441    DTSU031         FM_LV03_PR07.sh                                     A mover pushes a desk with a horizontal force such that the desk moves with constant velocity v0 across a carpeted floor. Suddenly, the mover doubles his force.                                                                                                              What can you say about the total or net force on the desk when the mover doubles his force?                                                                                                                                                                                                                                                                                                                                                                                                                                                                       zero   \n",
       "79           880    DTSU008            FM_LV04_PR05                                                                         Two hockey players pass a puck between them on an ice rink. Assume that the ice is very smooth so that there is no friction.                                                                                                 What can you say about the net horizontal force on the puck while moving on the ice between the players?                                                                                                                                                                                                                                                                                                                                                                                                                                          the horizontal forces balance out   \n",
       "84           289    DTSU041         FM_LV03_PR07.sh                                     A mover pushes a desk with a horizontal force such that the desk moves with constant velocity v0 across a carpeted floor. Suddenly, the mover doubles his force.  Because the net force on the desk was zero before the mover doubled his force, what can you say about the relative magnitude of the mover's push and the opposing force of friction acting on the desk?                                                                                                                                                                                                                                                                                                                                                                                                                                                MAGNITUDE OF PUSH INCREASES   \n",
       "93           522    DTSU031  FM_LV04_PR10.FCI-16.sh  To rescue a child who has fallen down a well, rescue workers fasten him to a rope, the other end of which is then reeled in by a machine. The rope pulls the child straight upward at steady speed.                                                                                                                                                                   Can you articulate Newton's first law?                                                                                                                                                                                                                                                                                                                                                                                                                                                                i dont know   \n",
       "104           48    DTSU021            FM_LVxx_PR01                                    A rocket pushes a meteor with constant force. Assume that the meteor is initially at rest and is far enough away from the sun and the planets to neglect gravity.                                                                                                                                                                  Can you articulate Newton's second law?                                                                                                                                                                                                                                                                                                                                                                                                                                                                         no   \n",
       "106           49    DTSU032            FM_LV03_PR07                                     A mover pushes a desk with a horizontal force such that the desk moves with constant velocity v0 across a carpeted floor. Suddenly, the mover doubles his force.                                                                                                              What can you say about the total or net force on the desk when the mover doubles his force?                                                                                                                                                                                                                                                                                                                                                                                                                                                   THE NET FORCE IS DOUBLED   \n",
       "110          693    DTSU029            FF_LV02_PR02                                                                                                       A basketball player is dribbling a basketball (continuously bouncing the ball off the ground).                                                                                                                             Because it is a vector, acceleration provides what two types of information?                                                                                                                                                                                                                                                                                                                                                                                                                                           Speed and direction of the ball.   \n",
       "135          896    DTSU029            FM_LV03_PR07                                     A mover pushes a desk with a horizontal force such that the desk moves with constant velocity v0 across a carpeted floor. Suddenly, the mover doubles his force.                                                                                                                                                            What can you say about the speed of the desk?                                                                                                                                                                                                                                                                                                                                                                                                           The speed of the desk will double because the force has doubled.   \n",
       "138          725    DTSU028         FF_LV02_PR02.sh                                                                                                       A basketball player is dribbling a basketball (continuously bouncing the ball off the ground).                                                                                                                             Because it is a vector, acceleration provides what two types of information?                                                                                                                                                                                                                                                                                                                                                                                                                                                         distance and speed   \n",
       "145          270    DTSU041         FM_LVxx_PR01.sh                                    A rocket pushes a meteor with constant force. Assume that the meteor is initially at rest and is far enough away from the sun and the planets to neglect gravity.                                                                              Given that the meteor starts at rest and then has a constant acceleration, what else can you say about the meteor's motion?                                                                                                                                                                                                                                                                                                                                                                                                                                                  IT MOVES IN A STRAIT LINE   \n",
       "160          797    DTSU013            FF_LV02_PR02                                                                                                       A basketball player is dribbling a basketball (continuously bouncing the ball off the ground).                                                                                                                   What does Newton's second law tell you about the direction of the ball's acceleration?                                                                                                                                                                                                                                                                                                                                                                                                                       It tells you whether the object is going up or down.   \n",
       "173          794    DTSU002       Demo_LP01_PR01.sh                                                                       A mover pushes a box so that it slides across a carpeted floor in a straight line at a constant speed. The push is horizontal.                                                                                                                       Can you articulate the definition or principle that helps us determine the forces?                                                                                                                                                                                                                                                                                                                                                                                                                              For ever reaction there is an equal reaction.   \n",
       "\n",
       "                                                                                                                                                                                                                                                                                                                                                                                                                                                                                                                                                                                                                                                                                                                                                                                                                                                                                                                                                                                                                           reference_answers  \\\n",
       "14                                                                                                                                                                                                                                                                                                                                                                                                                                                                                                                                                                                                                      1:  An object at rest will stay at rest and an object moving with constant velocity in a straight line will continue moving with constant velocity in a straight line as long as the net force acting on the object is zero. 2:  When the object is in equilibrium or velocity is constant, the sum of all forces will equal 0 3:  If the acceleration of a system is zero, the summation of the forces is also zero   \n",
       "16                                                                                                                                                                                                                                                                                                                                                                                                                                                                                                                                                                                                                                                                                                                                                                                                                                                                                     1:  Since there are no forces acting on the puck in the horizontal direction, the net horizontal force is zero. 2:  The net horizontal force is zero.   \n",
       "35   1:  The forces are the force of the mover pushing on the box, the force of friction from the floor on the box, the gravitational force from the earth on the box, and the normal force from the floor on the box. The force of friction balances the force of the mover pushing. 2:  The forces are the force of the mover pushing on the box, the force of friction from the floor on the box, the gravitational force from the earth on the box, and the normal force from the floor on the box. Friction balances the push. 3:  The forces are the force of the mover pushing on the box, the force of friction from the floor on the box, the gravitational force from the earth on the box, and the normal force from the floor on the box. The force of the mover pushing and the force of friction balance each other. 4:  The forces are the force of the mover pushing on the box, the force of friction from the floor on the box, the gravitational force from the earth on the box, and the normal force from the floor ...   \n",
       "52                                                                                                                                                                                                                                                                                                                                                                                                                                                                                                                                                                                                                                                                                                                                                                                                                                                                                                                          1:  The mover's push, when doubled, is larger than the opposing force of friction resulting in a non-zero force.   \n",
       "79                                                                                                                                                                                                                                                                                                                                                                                                                                                                                                                                                                                                                                                                                                                                                                                                                                                                                     1:  Since there are no forces acting on the puck in the horizontal direction, the net horizontal force is zero. 2:  The net horizontal force is zero.   \n",
       "84                                                                                                                                                                                                                                                                                                                                                                                                                                                                                                                                  1:  Because the net force on the desk is zero, the mover's push balances the opposing force of friction. 2:  Because the net force on the desk is zero, the force of push on the desk by the mover has the same magnitude but opposite direction to the force friction. 3:  Because the net force on the desk is zero, the mover's push is equal and opposite to the force of friction acting on the desk. 4:  The mover's push equals the opposing force of friction. 5:  Mover's push equals friction.   \n",
       "93                                                                                                                                                                                                                                                                                                                                                                                                                                               1:  An object at rest will stay at rest and at object moving with constant velocity in a straight line will continue moving with constant velocity in a straight line as long as the net force acting on the object is zero. 2:  If all the forces acting on an object add up to zero (accounting for the direction of the forces and not just their magnitude) then the acceleration of that object also has to be zero. It can move at a constant speed but it cannot be accelerating. 3:  When the object is in equilibrium or velocity is constant, the sum of all forces will equal 0.   \n",
       "104                                                                                                                                                                                                                                                                                                                                                                                                                      1:  Newton's 2nd Law says that the net force is equal to the product of the mass and the acceleration. 2:  An object on which a net force is being applied will move with a constant acceleration that is inversely proportional to the object's mass and that has the same direction as the force. 3:  The net force equals mass times acceleration. 4:  Newton's second law says that net force equals mass times acceleration. 5:  The sum of the forces equals mass times acceleration. 6:  The sum of all the forces acting on an object, divided by its mass is equivalent to the acceleration of that object   \n",
       "106                                                                                                                                                                                                                                                                                                                                                                                                                                                                                                                                                                                                                                                                                                                                                                                                                                                                                                                         1:  The mover's push, when doubled, is larger than the opposing force of friction resulting in a non-zero force.   \n",
       "110                                                                                                                                                                                                                                                                                                                                                                                                                                                                                                                                                                                                                                                                                                                                                                                                                                                                                                                              1:  Acceleration has both magnitude and direction. 2:  Acceleration tells you both magnitude and direction.   \n",
       "135                                                                                                                                                                                                                                                                                                                                                                                                                                                                                                                                                                                                                                                                                                                                                                        1:  The desk moves with increasing velocity. 2:  The desk will move with constant acceleration and the speed will increase. 3:  The desk increases its speed as the net force is non-zero. 4:  The desk increases its speed as the net force is not zero anymore.   \n",
       "138                                                                                                                                                                                                                                                                                                                                                                                                                                                                                                                                                                                                                                                                                                                                                                                                                                                                                                                              1:  Acceleration has both magnitude and direction. 2:  Acceleration tells you both magnitude and direction.   \n",
       "145                                                                                                                                                                                                                                                                                                                                                                                                                                                                                                                                                                                           1:  The meteor will move with increasing velocity. 2:  The meteor moves with constant acceleration and its velocity will keep increasing in the direction of the force as long as the rocket pushes. 3:  Because the meteor's acceleration is constant while the rocket pushes, the meteor will move with increasing velocity. 4:  The meteor will speed up. 5:  The meteor's speed will increase. 6:  The meteor will move faster and faster.   \n",
       "160                                                                                                                                                                                                                                                                                                                                                                                                                                                                                                                                                                                                                                                              1:  Since gravity is the only force acting on the ball, the net force on the ball is downward, so the ball's acceleration must also be downward. 2:  The ball's acceleration is downward. 3:  The direction of the ball's acceleration is the same with that of the force. 4:  The direction of the ball's acceleration is the same as the downward direction of the force.   \n",
       "173                                                                                                                                                                                                                                                                                                                                                                                                                                                                                                                                                                                                                   1:  An object at rest will stay at rest and an object moving with constant velocity in a straight line will continue moving with constant velocity in a straight line as long as the net force acting on the object is zero. 2:  When the object is in equilibrium or velocity is constant, the sum of all forces will equal 0. 3:  If the acceleration of a system is zero, the summation of the forces is also zero.   \n",
       "\n",
       "     label     pd_hash     qu_hash  \\\n",
       "14       3  b595153926  89f68d499a   \n",
       "16       3  35db126042  a5c3be16a4   \n",
       "35       3  b595153926  35b53f9861   \n",
       "52       3  d0331a86c9  46e9645699   \n",
       "79       3  35db126042  a5c3be16a4   \n",
       "84       3  d0331a86c9  439b223413   \n",
       "93       3  5059c9cfbb  27570f5d10   \n",
       "104      3  b78a60db07  acdf3150fe   \n",
       "106      3  d0331a86c9  46e9645699   \n",
       "110      3  a5b241c8bc  fbd52ac46e   \n",
       "135      3  d0331a86c9  64a1152f6d   \n",
       "138      3  a5b241c8bc  fbd52ac46e   \n",
       "145      3  b78a60db07  a40ba67403   \n",
       "160      3  a5b241c8bc  c28056af70   \n",
       "173      3  b595153926  89f68d499a   \n",
       "\n",
       "                                                                                                                                                                                                                                                                                                                                                                                                                                                                                                                                                                                                                                                                                                                                                                                                                                                                                                                                                                                                                                   embedding  \\\n",
       "14   [0.07877604166666667, -0.054361979166666664, 0.15218098958333334, 0.08170572916666667, -0.14241536458333334, -0.07171630859375, -0.10123697916666667, -0.029500325520833332, 0.080810546875, 0.1151123046875, -0.06754557291666667, -0.08939615885416667, -0.13321940104166666, 0.09895833333333333, -0.16451009114583334, 0.10481770833333333, -0.038411458333333336, 0.0888671875, -0.16471354166666666, -0.15169270833333334, -0.034261067708333336, -0.07320149739583333, 0.05126953125, 0.0035502115885416665, 0.01123046875, -0.21451822916666666, -0.04476165771484375, 0.12858072916666666, -0.07975260416666667, 0.09407552083333333, -0.1328125, -0.22623697916666666, 0.13755289713541666, 0.0096435546875, -0.004496256510416667, -0.0731201171875, 0.005289713541666667, 0.2906901041666667, -0.10068766276041667, 0.11783854166666667, 0.06998697916666667, -0.04052734375, 0.10693359375, 0.09912109375, -0.00016276041666666666, 0.09326171875, 0.01568603515625, 0.017333984375, 0.014892578125, -0.002115885416666...   \n",
       "16   [0.000885009765625, 0.0050907135009765625, 0.028157552083333332, 0.08028157552083333, -0.1220703125, -0.010416666666666666, 0.118896484375, -0.059590657552083336, 0.06591796875, -0.013468424479166666, -0.08463541666666667, -0.10392252604166667, 0.015523274739583334, 0.020182291666666668, 0.027669270833333332, 0.0899658203125, 0.012064615885416666, 0.06331380208333333, 0.009073893229166666, -0.046712239583333336, 0.023356119791666668, 0.20621744791666666, 0.053304036458333336, 0.0194091796875, 0.07918294270833333, 0.033528645833333336, -0.11214192708333333, 0.102783203125, 0.060282389322916664, 0.061604817708333336, -0.025227864583333332, 0.033854166666666664, -0.02978515625, 0.02880859375, 0.13020833333333334, 0.017985026041666668, -0.06504313151041667, 0.048065185546875, 0.10123697916666667, 0.0908203125, 0.10872395833333333, -0.01904296875, 0.018513997395833332, 0.026936848958333332, 8.138020833333333e-05, 0.10756429036458333, 0.015706380208333332, 0.06522623697916667, 0.07727050...   \n",
       "35   [0.023651849655877976, 0.030930496397472564, 0.026780809674944197, 0.050335112072172616, -0.07362947009858631, -0.03148832775297619, 0.004403432210286458, -0.08329663957868304, 0.04264195760091146, 0.043948309762137275, -0.06539608183361235, -0.07837713332403273, -0.015864054361979168, 0.04398327782040551, -0.09668997355869838, 0.030760992140997024, -0.005436806451706659, 0.049985249837239586, -0.0008759271530877976, -0.056865692138671875, -0.010971432640438988, -0.0038516180855887277, -0.05594598679315476, -0.0009793781098865327, 0.04058074951171875, -0.015699840727306548, -0.06039337884812128, 0.05813653128487723, 0.00013896397181919644, 0.017425537109375, -0.024298440842401414, -0.044460478283110116, -0.026858375186011904, 0.0060594649541945685, -0.029844284057617188, -0.015601112729027158, -0.004179273332868304, 0.016842433384486606, 0.028002421061197918, 0.042811984107607885, 0.08706301734561012, -0.04508263724190848, 0.08203706287202381, -0.0516143072219122, -0.00377625510806...   \n",
       "52   [0.0673828125, -0.12451171875, 0.1796875, 0.298828125, -0.189453125, 0.275390625, 0.16015625, -0.06103515625, 0.3671875, 0.0255126953125, -0.01092529296875, -0.07177734375, 0.00567626953125, 0.0322265625, -0.09814453125, -0.0106201171875, 0.1435546875, 0.0106201171875, -0.0859375, 0.1943359375, -0.1962890625, 0.10205078125, -0.1259765625, -0.265625, 0.1416015625, -0.15234375, -0.1005859375, 0.16796875, 0.267578125, -0.11962890625, -0.302734375, -0.357421875, 0.0238037109375, -0.10302734375, -0.26953125, -0.0927734375, 0.004058837890625, 0.043701171875, 0.28515625, -0.03466796875, 0.2236328125, -0.0302734375, 0.055419921875, 0.042724609375, -0.28515625, -0.06396484375, 0.1181640625, -0.0086669921875, 0.1865234375, 0.111328125, 0.1728515625, -0.083984375, 0.058349609375, 0.11474609375, -0.058837890625, -0.318359375, -0.244140625, -0.16015625, -0.0223388671875, 0.04345703125, 0.103515625, 0.142578125, 0.0218505859375, -0.09033203125, 0.33984375, -0.0230712890625, 0.181640625, 0.175781...   \n",
       "79   [0.01455078125, -0.0048828125, 0.00040283203125, 0.0380859375, -0.1009765625, -0.07431640625, -0.0320068359375, -0.135107421875, 0.00498046875, 0.0251708984375, -0.0890380859375, -0.113525390625, -0.01461181640625, 0.0909423828125, -0.1065673828125, 0.022412109375, -0.02960205078125, -0.02119140625, 0.0474853515625, -0.15059814453125, 0.04267578125, 0.06220703125, -0.1033935546875, 0.01257781982421875, 0.00062255859375, 0.041162109375, -0.1381103515625, 0.007666015625, 0.1145233154296875, -0.04736328125, 0.027392578125, 0.03736572265625, 0.1348663330078125, 0.070489501953125, -0.091455078125, 0.03189697265625, 0.00712890625, 0.05947265625, 0.110211181640625, 0.080078125, 0.05888671875, -0.0714111328125, 0.12041015625, -0.0693603515625, -0.03704833984375, -0.0157440185546875, -0.033154296875, -0.04830780029296875, 0.105078125, -0.03151435852050781, -0.001141357421875, 0.01102294921875, -0.02477569580078125, 0.001953125, -0.0484375, 0.042718505859375, -0.0757080078125, -0.04716796875...   \n",
       "84   [-0.043172200520833336, 0.07169596354166667, -0.057291666666666664, 0.1337890625, 0.01220703125, -0.13639322916666666, -0.017740885416666668, -0.169677734375, 0.1611785888671875, 0.15885416666666666, -0.12931315104166666, -0.08723958333333333, 0.048329671223958336, -0.0007781982421875, 0.017537434895833332, 0.05615234375, 0.014607747395833334, 0.035970052083333336, 0.09488932291666667, -0.1085205078125, -0.10319010416666667, 0.021977742513020832, 0.0391845703125, -0.01422119140625, 0.07356770833333333, -0.06766764322916667, -0.015322367350260416, 0.03875732421875, -0.17431640625, 0.041829427083333336, -0.080078125, -0.08235677083333333, -0.12239583333333333, -0.23795572916666666, -0.05029296875, -0.14265950520833334, 0.027180989583333332, 0.10005696614583333, 0.09256998697916667, 0.219970703125, 0.09025065104166667, 0.16935221354166666, 0.15087890625, -0.0063629150390625, -0.18558756510416666, -0.14632161458333334, -0.056315104166666664, -0.037434895833333336, -0.055501302083333336...   \n",
       "93   [-0.058512369791666664, -0.056559244791666664, 0.08089192708333333, 0.18050130208333334, -0.10335286458333333, 0.0927734375, 0.046834309895833336, -0.11368815104166667, 0.08561197916666667, -0.030680338541666668, -0.08589680989583333, -0.232421875, -0.20817057291666666, -0.0494384765625, -0.061279296875, 0.14599609375, 0.037027994791666664, 0.22672526041666666, -0.037109375, -0.08341471354166667, -0.17838541666666666, -0.004557291666666667, 0.2734375, -0.023030598958333332, 0.036376953125, 0.08894856770833333, -0.19571940104166666, -0.06901041666666667, -0.040364583333333336, -0.16796875, 0.010701497395833334, 0.13899739583333334, -0.09210205078125, -0.049479166666666664, -0.11122385660807292, 0.11710611979166667, -0.10367838541666667, 0.13487752278645834, -0.019368489583333332, 0.112548828125, 0.021270751953125, -0.10587565104166667, 0.2936197916666667, 0.025716145833333332, 0.010172526041666666, -0.024983723958333332, 0.0869140625, -0.15657552083333334, -0.058349609375, -0.132486...   \n",
       "104  [0.08251953125, -0.1513671875, 0.06591796875, 0.02001953125, -0.0267333984375, 0.0439453125, 0.17578125, -0.1767578125, 0.244140625, 0.1611328125, -0.05126953125, -0.1142578125, -0.1669921875, 0.2314453125, -0.140625, 0.0023651123046875, 0.31640625, -0.0908203125, -0.06298828125, 0.031494140625, -0.220703125, -0.0498046875, -0.205078125, -0.1044921875, -0.0286865234375, -0.07275390625, -0.177734375, 0.10009765625, -0.010498046875, 0.1220703125, 0.00225830078125, -0.0274658203125, -0.0771484375, -0.1142578125, -0.146484375, 0.034912109375, 0.240234375, 0.13671875, 0.10986328125, 0.040283203125, 0.1015625, 0.050048828125, 0.2412109375, -0.203125, 0.1650390625, -0.10986328125, 0.109375, 0.1748046875, -0.0263671875, -0.11865234375, 0.0245361328125, 0.09228515625, -0.0859375, -0.0230712890625, -0.00017833709716796875, -0.1513671875, -0.05078125, -0.333984375, 0.017333984375, -0.302734375, -0.05615234375, 0.26171875, 0.2158203125, -0.09375, -0.255859375, -0.0966796875, 0.08251953125, 0.1...   \n",
       "106  [-0.001910400390625, 0.050262451171875, 0.042578125, 0.0285888671875, -0.07783203125, -0.164453125, 0.07314453125, -0.1138671875, 0.14912109375, 0.017236328125, -0.0295654296875, -0.07177734375, 0.0970947265625, 0.0638336181640625, 0.018408203125, -0.02470703125, 0.009814453125, 0.035888671875, -0.0281982421875, -0.0308837890625, -0.02763671875, 0.00107421875, 0.002490234375, -0.02001495361328125, 0.107562255859375, -0.02373046875, -0.074609375, 0.028920364379882813, -0.0939971923828125, 0.071875, -0.036474609375, -0.0510498046875, -0.050537109375, 0.057843017578125, 0.0305908203125, -0.03743896484375, -0.1375, 0.01708984375, 0.099462890625, 0.1299224853515625, 0.087841796875, -0.107861328125, 0.0174560546875, 0.0287353515625, -0.0227294921875, -0.0743988037109375, -0.01240234375, 0.0297119140625, 0.156494140625, -0.02744140625, 0.007861328125, 0.00032958984375, 0.07972412109375, -0.022674703598022462, -0.0025390625, 0.0304290771484375, 0.0216552734375, 0.061041259765625, -0.111633...   \n",
       "110  [0.045684814453125, 0.067535400390625, 0.089599609375, -0.06597900390625, -0.032806396484375, -0.1687469482421875, 0.04201507568359375, -0.14886474609375, 0.013946533203125, 0.079925537109375, 0.034637451171875, -0.05706787109375, 0.0730438232421875, 0.0, -0.04738616943359375, -0.023345947265625, -0.0313873291015625, 0.14019775390625, 0.0820159912109375, -0.233978271484375, 0.06396484375, 0.13623046875, 0.100341796875, 0.11487388610839844, 0.082763671875, -0.06036376953125, -0.06207275390625, 0.11669921875, 0.06719589233398438, 0.01416015625, -0.07222747802734375, 0.007476806640625, 0.00885009765625, -0.08620452880859375, -0.02655029296875, -0.0032501220703125, -0.02288818359375, -0.0813446044921875, -0.001842498779296875, 0.1038818359375, 0.06939697265625, -0.009246826171875, 0.1645355224609375, -0.11100006103515625, -0.1128997802734375, -0.013484954833984375, 0.095489501953125, -0.0181884765625, 0.09930419921875, 0.0762939453125, 0.00457763671875, 0.1413421630859375, 0.0263519287...   \n",
       "135  [0.017411665482954544, 0.07277332652698863, 0.033777410333806816, 0.04163707386363636, -0.06197842684659091, -0.11416348544034091, 0.061201615767045456, -0.08322975852272728, 0.11050692471590909, 0.09367231889204546, 0.00866976651278409, -0.06682794744318182, 0.05831631747159091, -0.03885581276633523, 0.006719415838068182, -0.00019420276988636363, 0.02422540838068182, 0.0003773082386363636, 0.011863014914772728, -0.07295920632102272, -0.020285866477272728, -0.010048606178977272, 0.01953125, -0.006319219415838068, 0.050734086470170456, -0.04969371448863636, -0.03972278941761364, 0.06190716136585583, -0.011134754527698864, 0.05069247159090909, -0.002962979403409091, -0.0015147816051136363, -0.06784889914772728, 0.03980324485085227, 0.012617631392045454, -0.06987415660511363, -0.054243607954545456, -0.014637340198863636, 0.07762562144886363, 0.056802923029119316, 0.07179953835227272, -0.07257634943181818, 0.024458451704545456, -0.02943385731090199, -0.02819269353693182, -0.03862831809...   \n",
       "138  [-0.025390625, 0.2978515625, 0.14345550537109375, -0.0533447265625, 0.013519287109375, -0.087738037109375, -0.01226806640625, 0.0467529296875, 0.0377197265625, 0.154296875, 0.2705078125, -0.0804443359375, -0.1201171875, 0.02685546875, 0.1009521484375, 0.0364990234375, 0.01513671875, 0.0364227294921875, 0.093017578125, -0.341796875, -0.0362548828125, -0.0142822265625, -0.1043701171875, 0.18768310546875, -0.0205078125, -0.2412109375, -0.16650390625, 0.134765625, 0.0677337646484375, -0.05810546875, 0.0948486328125, -0.0294189453125, 0.007080078125, -0.171875, -0.1357421875, -0.15966796875, -0.154296875, -0.07373046875, -0.05876922607421875, 0.140380859375, 0.0634765625, 0.13427734375, 0.181640625, -0.0534210205078125, -0.25732421875, -0.04034423828125, 0.12841796875, -0.03942680358886719, 0.078857421875, 0.0870361328125, 0.013427734375, 0.0556640625, -0.1221923828125, -0.07073974609375, -0.031982421875, 0.2900390625, 0.06512451171875, 0.10546875, -0.146484375, -0.0707244873046875, 0.0...   \n",
       "145  [0.0197265625, 0.09013938903808594, -0.04627685546875, 0.0230224609375, 0.005859375, -0.054638671875, -0.102490234375, -0.08369140625, 0.11285400390625, 0.135888671875, -0.06121826171875, -0.08211822509765625, -0.0223388671875, -0.09814453125, -0.158740234375, -0.099072265625, 0.009814453125, 0.035498046875, 0.0868408203125, -0.097216796875, 0.125341796875, 0.0943359375, -0.00263671875, -0.05789794921875, 0.15396728515625, 0.0069580078125, -0.0724090576171875, 0.02138671875, 0.02344970703125, 0.055615234375, -0.05611572265625, -0.00703125, -0.0302978515625, -0.0396728515625, 0.03992767333984375, 0.033984375, -0.03341064453125, 0.080426025390625, 0.0948486328125, 0.0146484375, -0.0799072265625, -0.032470703125, 0.027783203125, -0.09315185546875, -0.0537841796875, 0.05458984375, -0.0166748046875, -0.0093505859375, 0.0061279296875, -0.011663818359375, 0.063525390625, 0.088861083984375, 0.0718994140625, -0.000146484375, 0.0470703125, 0.03353118896484375, -0.0157806396484375, -0.0843505...   \n",
       "160  [0.10529396750710228, -0.0042712471701882105, 0.11900745738636363, 0.11375843394886363, -0.144287109375, 0.03616610440340909, 0.10049715909090909, -0.05759499289772727, 0.09785600142045454, 0.061004638671875, -0.08233920010653409, -0.11378340287642046, -0.002557927911931818, -0.05562522194602273, -0.09636896306818182, 0.042280717329545456, 0.002102938565340909, 0.062311345880681816, 0.007434844970703125, -0.11422452059659091, -0.04503284801136364, 0.03884055397727273, 0.036299272017045456, -0.019024242054332386, 0.07106711647727272, 0.012684215198863636, -0.055429632013494316, 0.03438221324573864, 0.030373313210227272, 0.007240988991477273, 0.01606958562677557, -0.006600119850852273, -0.056196732954545456, -0.062108820134943184, -0.03506747159090909, 0.005304509943181818, -0.03191028941761364, 0.015666614879261364, -0.012139753861860796, 0.07780317826704546, 0.057220458984375, -0.13072620738636365, 0.1610995205965909, -0.07982011274857954, -0.034444635564630684, 0.01293529163707386...   \n",
       "173  [0.010913848876953125, -0.0525054931640625, 0.0784912109375, 0.05290985107421875, -0.1731719970703125, 0.0104522705078125, 0.025897979736328125, -0.127593994140625, 0.16623497009277344, 0.1420745849609375, -0.0828094482421875, -0.173431396484375, 0.02410888671875, -0.013214111328125, -0.0422821044921875, 0.15797805786132812, 0.0280303955078125, 0.0503387451171875, 0.020263671875, -0.07440376281738281, -0.033397674560546875, 0.08874893188476562, 0.014068603515625, -0.0278778076171875, -0.05432891845703125, -0.01153564453125, -0.141143798828125, 0.128692626953125, 0.08849334716796875, 0.122802734375, -0.037570953369140625, -0.030193328857421875, -0.0902099609375, -0.02032470703125, 0.01806640625, 0.0575103759765625, 0.02661895751953125, 0.0538177490234375, 0.00872802734375, 0.0636138916015625, 0.0908203125, -0.06103324890136719, 0.0717926025390625, -0.00189208984375, -0.08392333984375, -0.02588653564453125, -0.04293060302734375, 0.054412841796875, -0.04703521728515625, -0.01708984375...   \n",
       "\n",
       "     pred  \n",
       "14      3  \n",
       "16      3  \n",
       "35      3  \n",
       "52      3  \n",
       "79      3  \n",
       "84      3  \n",
       "93      3  \n",
       "104     3  \n",
       "106     3  \n",
       "110     3  \n",
       "135     3  \n",
       "138     3  \n",
       "145     3  \n",
       "160     3  \n",
       "173     3  "
      ]
     },
     "execution_count": 123,
     "metadata": {},
     "output_type": "execute_result"
    }
   ],
   "source": [
    "dev[(dev['label']==3) & (dev['pred']==3)]"
   ]
  },
  {
   "cell_type": "code",
   "execution_count": null,
   "metadata": {},
   "outputs": [],
   "source": []
  }
 ],
 "metadata": {
  "kernelspec": {
   "display_name": "Python 3",
   "language": "python",
   "name": "python3"
  },
  "language_info": {
   "codemirror_mode": {
    "name": "ipython",
    "version": 3
   },
   "file_extension": ".py",
   "mimetype": "text/x-python",
   "name": "python",
   "nbconvert_exporter": "python",
   "pygments_lexer": "ipython3",
   "version": "3.6.5"
  }
 },
 "nbformat": 4,
 "nbformat_minor": 2
}
